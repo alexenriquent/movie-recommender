{
 "cells": [
  {
   "cell_type": "markdown",
   "id": "6b7d62b1-ff20-4d14-94a4-7a7d834d4990",
   "metadata": {},
   "source": [
    "# Movie Recommender System\n",
    "Although recommender systems are widely used in modern artificial intelligence, particularly in retail and entertainment industries, many of existing systems in businesses that still use classical methods such as matrix factorisation are found incapable of capturing all of the information now available. One approach to mitigate this issue is to introduce nonlinearity to the system, such as deep nueral network layers in this case, which can improve the performance of recommender systems by both capturing more of the complex patterns of information that are present, and by making it easier to add new information in the form of further data feature columns.\n",
    "\n",
    "This project uses [TensorFlow Datasets (TFDS)](https://www.tensorflow.org/datasets) and the [TensorFlow Recommenders library (TFRS)](https://www.tensorflow.org/recommenders) to show how the addition of deep learning to a recommender model improves its performance."
   ]
  },
  {
   "cell_type": "markdown",
   "id": "63879832-f1f7-4423-8f17-2e88f3d04032",
   "metadata": {},
   "source": [
    "## Setup\n",
    "Let's install TFDS, TFRS, and import these and the Python modules that we need."
   ]
  },
  {
   "cell_type": "code",
   "execution_count": 1,
   "id": "0c020102-b3d8-42b5-adde-8de5177e6c79",
   "metadata": {},
   "outputs": [
    {
     "name": "stdout",
     "output_type": "stream",
     "text": [
      "Requirement already satisfied: pip in /usr/local/lib/python3.9/dist-packages (22.2.2)\n",
      "Collecting pip\n",
      "  Downloading pip-22.3-py3-none-any.whl (2.1 MB)\n",
      "\u001b[2K     \u001b[90m━━━━━━━━━━━━━━━━━━━━━━━━━━━━━━━━━━━━━━━━\u001b[0m \u001b[32m2.1/2.1 MB\u001b[0m \u001b[31m55.5 MB/s\u001b[0m eta \u001b[36m0:00:00\u001b[0m:00:01\u001b[0m\n",
      "\u001b[?25hInstalling collected packages: pip\n",
      "  Attempting uninstall: pip\n",
      "    Found existing installation: pip 22.2.2\n",
      "    Uninstalling pip-22.2.2:\n",
      "      Successfully uninstalled pip-22.2.2\n",
      "Successfully installed pip-22.3\n",
      "\u001b[33mWARNING: Running pip as the 'root' user can result in broken permissions and conflicting behaviour with the system package manager. It is recommended to use a virtual environment instead: https://pip.pypa.io/warnings/venv\u001b[0m\u001b[33m\n",
      "\u001b[0m\u001b[33mWARNING: Running pip as the 'root' user can result in broken permissions and conflicting behaviour with the system package manager. It is recommended to use a virtual environment instead: https://pip.pypa.io/warnings/venv\u001b[0m\u001b[33m\n",
      "\u001b[0m\u001b[33mWARNING: Running pip as the 'root' user can result in broken permissions and conflicting behaviour with the system package manager. It is recommended to use a virtual environment instead: https://pip.pypa.io/warnings/venv\u001b[0m\u001b[33m\n",
      "\u001b[0m"
     ]
    }
   ],
   "source": [
    "!pip install --upgrade pip\n",
    "!pip install -q tensorflow-recommenders\n",
    "!pip install -q --upgrade tensorflow-datasets"
   ]
  },
  {
   "cell_type": "code",
   "execution_count": 2,
   "id": "70a58df6-4a8e-468d-9b51-b1094d295a30",
   "metadata": {},
   "outputs": [],
   "source": [
    "import os\n",
    "import platform\n",
    "import pprint\n",
    "import numpy as np\n",
    "from typing import Dict, Text\n",
    "\n",
    "%matplotlib inline\n",
    "import matplotlib.pyplot as plt\n",
    "plt.style.use('seaborn-whitegrid')\n",
    "\n",
    "import tensorflow as tf\n",
    "import tensorflow_datasets as tfds\n",
    "import tensorflow_recommenders as tfrs"
   ]
  },
  {
   "cell_type": "markdown",
   "id": "8374bfcf-4d28-4a3d-9f5f-1342fe60e694",
   "metadata": {},
   "source": [
    "Print the information about the versions of software that we are using."
   ]
  },
  {
   "cell_type": "code",
   "execution_count": 3,
   "id": "15bcfdf4-b367-4007-b9e8-1272596e7c78",
   "metadata": {},
   "outputs": [
    {
     "name": "stdout",
     "output_type": "stream",
     "text": [
      "Numpy version: 1.23.1\n",
      "Python version: 3.9.13\n",
      "TensorFlow version: 2.9.1\n",
      "TensorFlow Datasets version: 4.7.0\n",
      "TensorFlow Recommenders version: v0.7.2\n"
     ]
    }
   ],
   "source": [
    "print('Numpy version: {}'.format(np.__version__))\n",
    "print('Python version: {}'.format(platform.python_version()))\n",
    "print('TensorFlow version: {}'.format(tf.__version__))\n",
    "print('TensorFlow Datasets version: {}'.format(tfds.__version__))\n",
    "print('TensorFlow Recommenders version: {}'.format(tfrs.__version__))"
   ]
  },
  {
   "cell_type": "markdown",
   "id": "025a9da0-5af5-4247-8680-716f2ae8ccb2",
   "metadata": {},
   "source": [
    "See if GPUs are available."
   ]
  },
  {
   "cell_type": "code",
   "execution_count": 4,
   "id": "9d15f63f-22d4-4f0d-ad97-423381434e48",
   "metadata": {},
   "outputs": [
    {
     "name": "stdout",
     "output_type": "stream",
     "text": [
      "[name: \"/device:CPU:0\"\n",
      "device_type: \"CPU\"\n",
      "memory_limit: 268435456\n",
      "locality {\n",
      "}\n",
      "incarnation: 2301518706842166398\n",
      "xla_global_id: -1\n",
      ", name: \"/device:GPU:0\"\n",
      "device_type: \"GPU\"\n",
      "memory_limit: 16285958144\n",
      "locality {\n",
      "  bus_id: 1\n",
      "  links {\n",
      "  }\n",
      "}\n",
      "incarnation: 13826206434467118167\n",
      "physical_device_desc: \"device: 0, name: Quadro P5000, pci bus id: 0000:00:05.0, compute capability: 6.1\"\n",
      "xla_global_id: 416903419\n",
      "]\n"
     ]
    }
   ],
   "source": [
    "from tensorflow.python.client import device_lib\n",
    "print(device_lib.list_local_devices())"
   ]
  },
  {
   "cell_type": "markdown",
   "id": "a810fce7-7c77-4695-b531-732dbe16579e",
   "metadata": {},
   "source": [
    "## Data Preparation\n",
    "Load the MovieLens data from TensorFlow Datasets."
   ]
  },
  {
   "cell_type": "code",
   "execution_count": 5,
   "id": "6fc686e9-f6e8-46b7-86a3-e4771e714435",
   "metadata": {},
   "outputs": [
    {
     "name": "stderr",
     "output_type": "stream",
     "text": [
      "2022-10-26 23:56:45.154445: W tensorflow/core/platform/cloud/google_auth_provider.cc:184] All attempts to get a Google authentication bearer token failed, returning an empty token. Retrieving token from files failed with \"NOT_FOUND: Could not locate the credentials file.\". Retrieving token from GCE failed with \"FAILED_PRECONDITION: Error executing an HTTP request: libcurl code 6 meaning 'Couldn't resolve host name', error details: Could not resolve host: metadata\".\n"
     ]
    },
    {
     "name": "stdout",
     "output_type": "stream",
     "text": [
      "\u001b[1mDownloading and preparing dataset 4.70 MiB (download: 4.70 MiB, generated: 32.41 MiB, total: 37.10 MiB) to /root/tensorflow_datasets/movielens/100k-ratings/0.1.1...\u001b[0m\n"
     ]
    },
    {
     "data": {
      "application/vnd.jupyter.widget-view+json": {
       "model_id": "659d958e7cdb4f3c96c459d173c0ed88",
       "version_major": 2,
       "version_minor": 0
      },
      "text/plain": [
       "Dl Completed...: 0 url [00:00, ? url/s]"
      ]
     },
     "metadata": {},
     "output_type": "display_data"
    },
    {
     "data": {
      "application/vnd.jupyter.widget-view+json": {
       "model_id": "0e349667ddaf4639a213f006e48295de",
       "version_major": 2,
       "version_minor": 0
      },
      "text/plain": [
       "Dl Size...: 0 MiB [00:00, ? MiB/s]"
      ]
     },
     "metadata": {},
     "output_type": "display_data"
    },
    {
     "data": {
      "application/vnd.jupyter.widget-view+json": {
       "model_id": "1186271bd6d14e1389b847e10fc950fa",
       "version_major": 2,
       "version_minor": 0
      },
      "text/plain": [
       "Extraction completed...: 0 file [00:00, ? file/s]"
      ]
     },
     "metadata": {},
     "output_type": "display_data"
    },
    {
     "data": {
      "application/vnd.jupyter.widget-view+json": {
       "model_id": "",
       "version_major": 2,
       "version_minor": 0
      },
      "text/plain": [
       "Generating splits...:   0%|          | 0/1 [00:00<?, ? splits/s]"
      ]
     },
     "metadata": {},
     "output_type": "display_data"
    },
    {
     "data": {
      "application/vnd.jupyter.widget-view+json": {
       "model_id": "",
       "version_major": 2,
       "version_minor": 0
      },
      "text/plain": [
       "Generating train examples...:   0%|          | 0/100000 [00:00<?, ? examples/s]"
      ]
     },
     "metadata": {},
     "output_type": "display_data"
    },
    {
     "data": {
      "application/vnd.jupyter.widget-view+json": {
       "model_id": "",
       "version_major": 2,
       "version_minor": 0
      },
      "text/plain": [
       "Shuffling /root/tensorflow_datasets/movielens/100k-ratings/0.1.1.incompleteG2EYRG/movielens-train.tfrecord*...…"
      ]
     },
     "metadata": {},
     "output_type": "display_data"
    },
    {
     "name": "stdout",
     "output_type": "stream",
     "text": [
      "\u001b[1mDataset movielens downloaded and prepared to /root/tensorflow_datasets/movielens/100k-ratings/0.1.1. Subsequent calls will reuse this data.\u001b[0m\n"
     ]
    }
   ],
   "source": [
    "ratings_raw = tfds.load('movielens/100k-ratings', split='train')"
   ]
  },
  {
   "cell_type": "code",
   "execution_count": 6,
   "id": "d67e2f12-2761-4575-a6f1-3846809081b5",
   "metadata": {},
   "outputs": [
    {
     "data": {
      "text/plain": [
       "<PrefetchDataset element_spec={'bucketized_user_age': TensorSpec(shape=(), dtype=tf.float32, name=None), 'movie_genres': TensorSpec(shape=(None,), dtype=tf.int64, name=None), 'movie_id': TensorSpec(shape=(), dtype=tf.string, name=None), 'movie_title': TensorSpec(shape=(), dtype=tf.string, name=None), 'raw_user_age': TensorSpec(shape=(), dtype=tf.float32, name=None), 'timestamp': TensorSpec(shape=(), dtype=tf.int64, name=None), 'user_gender': TensorSpec(shape=(), dtype=tf.bool, name=None), 'user_id': TensorSpec(shape=(), dtype=tf.string, name=None), 'user_occupation_label': TensorSpec(shape=(), dtype=tf.int64, name=None), 'user_occupation_text': TensorSpec(shape=(), dtype=tf.string, name=None), 'user_rating': TensorSpec(shape=(), dtype=tf.float32, name=None), 'user_zip_code': TensorSpec(shape=(), dtype=tf.string, name=None)}>"
      ]
     },
     "execution_count": 6,
     "metadata": {},
     "output_type": "execute_result"
    }
   ],
   "source": [
    "ratings_raw"
   ]
  },
  {
   "cell_type": "markdown",
   "id": "47f07a69-dd90-467f-b0dd-7ccdcc21b783",
   "metadata": {},
   "source": [
    "Print the first few rows."
   ]
  },
  {
   "cell_type": "code",
   "execution_count": 7,
   "id": "0f84b97c-3606-4cbf-86cd-006274abd0a6",
   "metadata": {},
   "outputs": [
    {
     "name": "stdout",
     "output_type": "stream",
     "text": [
      "{'bucketized_user_age': 45.0,\n",
      " 'movie_genres': array([7]),\n",
      " 'movie_id': b'357',\n",
      " 'movie_title': b\"One Flew Over the Cuckoo's Nest (1975)\",\n",
      " 'raw_user_age': 46.0,\n",
      " 'timestamp': 879024327,\n",
      " 'user_gender': True,\n",
      " 'user_id': b'138',\n",
      " 'user_occupation_label': 4,\n",
      " 'user_occupation_text': b'doctor',\n",
      " 'user_rating': 4.0,\n",
      " 'user_zip_code': b'53211'}\n",
      "{'bucketized_user_age': 25.0,\n",
      " 'movie_genres': array([ 4, 14]),\n",
      " 'movie_id': b'709',\n",
      " 'movie_title': b'Strictly Ballroom (1992)',\n",
      " 'raw_user_age': 32.0,\n",
      " 'timestamp': 875654590,\n",
      " 'user_gender': True,\n",
      " 'user_id': b'92',\n",
      " 'user_occupation_label': 5,\n",
      " 'user_occupation_text': b'entertainment',\n",
      " 'user_rating': 2.0,\n",
      " 'user_zip_code': b'80525'}\n",
      "{'bucketized_user_age': 18.0,\n",
      " 'movie_genres': array([4]),\n",
      " 'movie_id': b'412',\n",
      " 'movie_title': b'Very Brady Sequel, A (1996)',\n",
      " 'raw_user_age': 24.0,\n",
      " 'timestamp': 882075110,\n",
      " 'user_gender': True,\n",
      " 'user_id': b'301',\n",
      " 'user_occupation_label': 17,\n",
      " 'user_occupation_text': b'student',\n",
      " 'user_rating': 4.0,\n",
      " 'user_zip_code': b'55439'}\n"
     ]
    },
    {
     "name": "stderr",
     "output_type": "stream",
     "text": [
      "2022-10-26 23:58:13.507510: W tensorflow/core/kernels/data/cache_dataset_ops.cc:856] The calling iterator did not fully read the dataset being cached. In order to avoid unexpected truncation of the dataset, the partially cached contents of the dataset  will be discarded. This can happen if you have an input pipeline similar to `dataset.cache().take(k).repeat()`. You should use `dataset.take(k).cache().repeat()` instead.\n"
     ]
    }
   ],
   "source": [
    "for row in ratings_raw.take(3).as_numpy_iterator():\n",
    "    pprint.pprint(row)"
   ]
  },
  {
   "cell_type": "markdown",
   "id": "850f924e-717f-4662-9dea-80431f6645c7",
   "metadata": {},
   "source": [
    "Select the only features we need for training the model."
   ]
  },
  {
   "cell_type": "code",
   "execution_count": 8,
   "id": "c8806118-cb60-4012-9c69-859f02ae16df",
   "metadata": {},
   "outputs": [],
   "source": [
    "ratings = ratings_raw.map(lambda x: {\n",
    "    'movie_title': x['movie_title'],\n",
    "    'timestamp': x['timestamp'],\n",
    "    'user_id': x['user_id'],\n",
    "    'user_rating': x['user_rating']\n",
    "})"
   ]
  },
  {
   "cell_type": "code",
   "execution_count": 9,
   "id": "7ed2a674-8b23-4fa3-b282-a12f9922c7c9",
   "metadata": {},
   "outputs": [
    {
     "data": {
      "text/plain": [
       "<MapDataset element_spec={'movie_title': TensorSpec(shape=(), dtype=tf.string, name=None), 'timestamp': TensorSpec(shape=(), dtype=tf.int64, name=None), 'user_id': TensorSpec(shape=(), dtype=tf.string, name=None), 'user_rating': TensorSpec(shape=(), dtype=tf.float32, name=None)}>"
      ]
     },
     "execution_count": 9,
     "metadata": {},
     "output_type": "execute_result"
    }
   ],
   "source": [
    "ratings"
   ]
  },
  {
   "cell_type": "markdown",
   "id": "aceec8e1-f695-410c-afd7-8041a16cbce4",
   "metadata": {},
   "source": [
    "Extract the timestamps and create training, validation, and testing sets that do not overlap in time."
   ]
  },
  {
   "cell_type": "code",
   "execution_count": 10,
   "id": "600a86f4-98e0-4de6-ad04-589990feed79",
   "metadata": {},
   "outputs": [],
   "source": [
    "timestamps = np.concatenate(list(ratings.map(lambda x: x['timestamp']).batch(100)))"
   ]
  },
  {
   "cell_type": "markdown",
   "id": "efd6f34c-7f25-4b23-96c6-ebb81e7252b3",
   "metadata": {},
   "source": [
    "Get minimum and maximum time values."
   ]
  },
  {
   "cell_type": "code",
   "execution_count": 11,
   "id": "4a75653b-a2d1-4019-b535-d1bcc4e3d26e",
   "metadata": {},
   "outputs": [
    {
     "name": "stdout",
     "output_type": "stream",
     "text": [
      "Maximum time value: 893286638\n",
      "Minimum time value: 874724710\n"
     ]
    }
   ],
   "source": [
    "max_time = timestamps.max()\n",
    "min_time = timestamps.min()\n",
    "\n",
    "print('Maximum time value: {}'.format(max_time))\n",
    "print('Minimum time value: {}'.format(min_time))"
   ]
  },
  {
   "cell_type": "markdown",
   "id": "ee145b44-98b2-4426-969f-db32f5144d76",
   "metadata": {},
   "source": [
    "Get 60th and 80th percentile times"
   ]
  },
  {
   "cell_type": "code",
   "execution_count": 12,
   "id": "61b9b906-f6a0-4b94-9751-ba336a9b4008",
   "metadata": {},
   "outputs": [
    {
     "name": "stdout",
     "output_type": "stream",
     "text": [
      "60th percentile time: 885861866.8\n",
      "80th percentile time: 889574252.4\n"
     ]
    }
   ],
   "source": [
    "sixtieth_percentile = min_time + 0.6*(max_time - min_time)\n",
    "eightieth_percentile = min_time + 0.8*(max_time - min_time)\n",
    "\n",
    "print('60th percentile time: {}'.format(sixtieth_percentile))\n",
    "print('80th percentile time: {}'.format(eightieth_percentile))"
   ]
  },
  {
   "cell_type": "markdown",
   "id": "4f6191da-cad3-4105-8658-5bfa90989d97",
   "metadata": {},
   "source": [
    "Create training, validation, and testing sets"
   ]
  },
  {
   "cell_type": "code",
   "execution_count": 13,
   "id": "afc82452-5809-42dc-a391-f6c55f761494",
   "metadata": {},
   "outputs": [],
   "source": [
    "train = ratings.filter(lambda x: x['timestamp'] <= sixtieth_percentile)\n",
    "validation = ratings.filter(lambda x: x['timestamp'] > sixtieth_percentile and x['timestamp'] <= eightieth_percentile)\n",
    "test = ratings.filter(lambda x: x['timestamp'] > eightieth_percentile)"
   ]
  },
  {
   "cell_type": "markdown",
   "id": "1b168514-e354-40a0-9b06-9d4251d22945",
   "metadata": {},
   "source": [
    "We are splitting on time percentiles and not row percentiles, which means that we have assumed the times are roughly evenly distributed.\n",
    "\n",
    "Check the number of rows in the training, validation, and testing sets is as expected"
   ]
  },
  {
   "cell_type": "code",
   "execution_count": 14,
   "id": "310e4f42-61f3-4c0f-8616-a1160cf91dc5",
   "metadata": {},
   "outputs": [
    {
     "name": "stdout",
     "output_type": "stream",
     "text": [
      "Number of rows in the training set: 65336\n",
      "Number of rows in the validation set: 15778\n",
      "Number of rows in the test set: 18886\n",
      "Total number of rows: 100000\n"
     ]
    }
   ],
   "source": [
    "train_count = 0\n",
    "validation_count = 0\n",
    "test_count = 0\n",
    "\n",
    "for row in train.take(-1).as_numpy_iterator():\n",
    "    train_count += 1\n",
    "    \n",
    "for row in validation.take(-1).as_numpy_iterator():\n",
    "    validation_count += 1\n",
    "    \n",
    "for row in test.take(-1).as_numpy_iterator():\n",
    "    test_count += 1\n",
    "    \n",
    "print('Number of rows in the training set: {}'.format(train_count))\n",
    "print('Number of rows in the validation set: {}'.format(validation_count))\n",
    "print('Number of rows in the test set: {}'.format(test_count))\n",
    "print('Total number of rows: {}'.format(train_count + validation_count + test_count))"
   ]
  },
  {
   "cell_type": "markdown",
   "id": "9fb65872-316a-42a0-8656-0f4ffdf4a2e4",
   "metadata": {},
   "source": [
    "Shuffle the data within each data set."
   ]
  },
  {
   "cell_type": "code",
   "execution_count": 15,
   "id": "f3aee71f-463e-42d3-aeb0-6c3f667b2108",
   "metadata": {},
   "outputs": [],
   "source": [
    "train = train.shuffle(train_count)\n",
    "validation = validation.shuffle(validation_count)\n",
    "test = test.shuffle(test_count)"
   ]
  },
  {
   "cell_type": "markdown",
   "id": "0a890c9a-a19a-47e7-9123-33dfb1769686",
   "metadata": {},
   "source": [
    "Obtain a list of unique movie titles and user IDs that are needed for the recommender model."
   ]
  },
  {
   "cell_type": "code",
   "execution_count": 19,
   "id": "fe44a798-0d1f-482e-b9f8-bc3eeb32fde1",
   "metadata": {},
   "outputs": [],
   "source": [
    "movie_titles = ratings.batch(1_000_000).map(lambda x: x['movie_title'])\n",
    "user_ids = ratings.batch(1_000_000).map(lambda x: x['user_id'])"
   ]
  },
  {
   "cell_type": "code",
   "execution_count": 20,
   "id": "4402b910-45ed-497e-ab60-d1e233a2fbda",
   "metadata": {},
   "outputs": [],
   "source": [
    "unique_movie_titles = np.unique(np.concatenate(list(movie_titles)))\n",
    "unique_user_ids = np.unique(np.concatenate(list(user_ids)))"
   ]
  },
  {
   "cell_type": "markdown",
   "id": "55392baa-1bad-491e-bf54-67cb3fa3f526",
   "metadata": {},
   "source": [
    "## Recommender Models\n",
    "To reduce the chance of errors being introduced when it is deployed in production, some of the feature engineering layers are incorporated as part of the model. The model is described by a Python class that inherits from the TFRS base class. The class will include:\n",
    "* Embeddings for movie titles\n",
    "* Embeddings for user ids\n",
    "* Some dense layers to compute the rankings\n",
    "* TFRS task layer to compute mean squared error\n",
    "* The `call()` method\n",
    "* The `compute_loss()` method"
   ]
  },
  {
   "cell_type": "markdown",
   "id": "8592c3c3-5923-4ed2-aa65-f556f4d57a2c",
   "metadata": {},
   "source": [
    "### Basic Ranking Model\n",
    "This model shows what happens when a model is set up with some default parameters, without attempting to tune any of them."
   ]
  },
  {
   "cell_type": "code",
   "execution_count": 33,
   "id": "5b87a612-7575-49a5-8b1f-2dc358bfde0a",
   "metadata": {},
   "outputs": [],
   "source": [
    "class ModelBasicRanking(tfrs.models.Model):\n",
    "    \n",
    "    def __init__(self) -> None:\n",
    "        super().__init__()\n",
    "        embedding_dimension = 32\n",
    "        \n",
    "        self.movie_model: tf.keras.layers.Layer = tf.keras.Sequential([\n",
    "            tf.keras.layers.StringLookup(vocabulary=unique_movie_titles, mask_token=None),\n",
    "            tf.keras.layers.Embedding(len(unique_movie_titles) + 1, embedding_dimension)\n",
    "        ])\n",
    "        \n",
    "        self.user_model: tf.keras.layers.Layer = tf.keras.Sequential([\n",
    "            tf.keras.layers.StringLookup(vocabulary=unique_user_ids, mask_token=None),\n",
    "            tf.keras.layers.Embedding(len(unique_user_ids) + 1, embedding_dimension)\n",
    "        ])\n",
    "        \n",
    "        self.rating_model = tf.keras.Sequential([\n",
    "            tf.keras.layers.Dense(256, activation='relu'),\n",
    "            tf.keras.layers.Dense(64, activation='relu'),\n",
    "            tf.keras.layers.Dense(1)\n",
    "        ])\n",
    "        \n",
    "        self.task : tf.keras.layers.Layer = tfrs.tasks.Ranking(\n",
    "            loss=tf.keras.losses.MeanSquaredError(),\n",
    "            metrics=[tf.keras.metrics.RootMeanSquaredError()]\n",
    "        )\n",
    "    \n",
    "    def call(self, features: Dict[Text, tf.Tensor]) -> tf.Tensor:\n",
    "        user_embeddings = self.user_model(features['user_id'])\n",
    "        movie_embeddings = self.movie_model(features['movie_title'])\n",
    "        rating_model = self.rating_model(tf.concat([user_embeddings, movie_embeddings], axis=1))\n",
    "        \n",
    "        return (user_embeddings,\n",
    "                movie_embeddings,\n",
    "                rating_model)\n",
    "    \n",
    "    def compute_loss(self, features: Dict[Text, tf.Tensor], training=False) -> tf.Tensor:\n",
    "        ratings = features.pop('user_rating')\n",
    "        user_embeddings, movie_embeddings, rating_predictions = self(features)\n",
    "        \n",
    "        rating_loss = self.task(\n",
    "            labels=ratings,\n",
    "            predictions=rating_predictions\n",
    "        )\n",
    "        \n",
    "        return rating_loss"
   ]
  },
  {
   "cell_type": "markdown",
   "id": "ba5ffddf-82b3-4b66-83f3-3e227f37ae09",
   "metadata": {},
   "source": [
    "Print out some training examples."
   ]
  },
  {
   "cell_type": "code",
   "execution_count": 34,
   "id": "451cf584-3cab-4d69-b095-5df5bf934e08",
   "metadata": {},
   "outputs": [
    {
     "data": {
      "text/plain": [
       "<ShuffleDataset element_spec={'movie_title': TensorSpec(shape=(), dtype=tf.string, name=None), 'timestamp': TensorSpec(shape=(), dtype=tf.int64, name=None), 'user_id': TensorSpec(shape=(), dtype=tf.string, name=None), 'user_rating': TensorSpec(shape=(), dtype=tf.float32, name=None)}>"
      ]
     },
     "execution_count": 34,
     "metadata": {},
     "output_type": "execute_result"
    }
   ],
   "source": [
    "train"
   ]
  },
  {
   "cell_type": "code",
   "execution_count": 35,
   "id": "d1d40db9-f454-46f8-8d50-8736373dba1d",
   "metadata": {},
   "outputs": [
    {
     "name": "stdout",
     "output_type": "stream",
     "text": [
      "{'movie_title': b'Forrest Gump (1994)',\n",
      " 'timestamp': 879435628,\n",
      " 'user_id': b'419',\n",
      " 'user_rating': 4.0}\n",
      "{'movie_title': b'Gandhi (1982)',\n",
      " 'timestamp': 875239018,\n",
      " 'user_id': b'297',\n",
      " 'user_rating': 5.0}\n",
      "{'movie_title': b'Apocalypse Now (1979)',\n",
      " 'timestamp': 882141248,\n",
      " 'user_id': b'13',\n",
      " 'user_rating': 5.0}\n"
     ]
    }
   ],
   "source": [
    "for x in train.take(3).as_numpy_iterator():\n",
    "    pprint.pprint(x)"
   ]
  },
  {
   "cell_type": "markdown",
   "id": "80625ee2-60cd-48ec-a54e-201c5659a062",
   "metadata": {},
   "source": [
    "Reshuffle the training and validation sets. Then batch and cache all three data\n",
    "sets."
   ]
  },
  {
   "cell_type": "code",
   "execution_count": 36,
   "id": "3044ccec-7387-4c6c-8696-2e7c93bff9af",
   "metadata": {},
   "outputs": [],
   "source": [
    "train_batch_size = 8192\n",
    "test_batch_size = 4096\n",
    "\n",
    "cached_train = train.shuffle(train_count).batch(train_batch_size).cache()\n",
    "cached_validation = validation.shuffle(validation_count).batch(train_batch_size).cache()\n",
    "cached_test = test.batch(test_batch_size).cache()"
   ]
  },
  {
   "cell_type": "markdown",
   "id": "5f30aa63-49b5-426c-b298-8ca88074287d",
   "metadata": {},
   "source": [
    "The data is now a `CacheDataset`."
   ]
  },
  {
   "cell_type": "code",
   "execution_count": 37,
   "id": "a4a732c5-1d11-47e7-bdaa-a4570857773d",
   "metadata": {},
   "outputs": [
    {
     "data": {
      "text/plain": [
       "<CacheDataset element_spec={'movie_title': TensorSpec(shape=(None,), dtype=tf.string, name=None), 'timestamp': TensorSpec(shape=(None,), dtype=tf.int64, name=None), 'user_id': TensorSpec(shape=(None,), dtype=tf.string, name=None), 'user_rating': TensorSpec(shape=(None,), dtype=tf.float32, name=None)}>"
      ]
     },
     "execution_count": 37,
     "metadata": {},
     "output_type": "execute_result"
    }
   ],
   "source": [
    "cached_train"
   ]
  },
  {
   "cell_type": "code",
   "execution_count": 38,
   "id": "d477efba-9463-46e0-a245-9e5f512b537d",
   "metadata": {},
   "outputs": [
    {
     "name": "stdout",
     "output_type": "stream",
     "text": [
      "{'movie_title': array([b'Super Mario Bros. (1993)', b'Birdcage, The (1996)',\n",
      "       b'Professional, The (1994)', ..., b'Ref, The (1994)',\n",
      "       b'Tombstone (1993)', b'Grifters, The (1990)'], dtype=object),\n",
      " 'timestamp': array([875636167, 876402814, 877636713, ..., 883364433, 883949200,\n",
      "       884111485]),\n",
      " 'user_id': array([b'5', b'343', b'162', ..., b'476', b'846', b'201'], dtype=object),\n",
      " 'user_rating': array([2., 2., 3., ..., 2., 5., 4.], dtype=float32)}\n",
      "{'movie_title': array([b'Full Metal Jacket (1987)', b'Wizard of Oz, The (1939)',\n",
      "       b'Three Colors: White (1994)', ..., b'Washington Square (1997)',\n",
      "       b'Pretty Woman (1990)', b'Leaving Las Vegas (1995)'], dtype=object),\n",
      " 'timestamp': array([883767325, 884753028, 874730031, ..., 878962006, 880143243,\n",
      "       880485573]),\n",
      " 'user_id': array([b'508', b'77', b'712', ..., b'181', b'437', b'230'], dtype=object),\n",
      " 'user_rating': array([4., 3., 3., ..., 1., 3., 5.], dtype=float32)}\n",
      "{'movie_title': array([b'Kull the Conqueror (1997)', b'Tin Men (1987)',\n",
      "       b'Killer (Bulletproof Heart) (1994)', ..., b'Star Wars (1977)',\n",
      "       b'Shawshank Redemption, The (1994)', b'Professional, The (1994)'],\n",
      "      dtype=object),\n",
      " 'timestamp': array([883591252, 880607925, 885548632, ..., 874774718, 880117513,\n",
      "       878438484]),\n",
      " 'user_id': array([b'509', b'244', b'405', ..., b'119', b'629', b'823'], dtype=object),\n",
      " 'user_rating': array([1., 3., 1., ..., 5., 5., 4.], dtype=float32)}\n"
     ]
    },
    {
     "name": "stderr",
     "output_type": "stream",
     "text": [
      "2022-10-27 01:00:49.687770: W tensorflow/core/kernels/data/cache_dataset_ops.cc:856] The calling iterator did not fully read the dataset being cached. In order to avoid unexpected truncation of the dataset, the partially cached contents of the dataset  will be discarded. This can happen if you have an input pipeline similar to `dataset.cache().take(k).repeat()`. You should use `dataset.take(k).cache().repeat()` instead.\n"
     ]
    }
   ],
   "source": [
    "for x in cached_train.take(3).as_numpy_iterator():\n",
    "    pprint.pprint(x)"
   ]
  },
  {
   "cell_type": "markdown",
   "id": "8889c82f-aefd-480d-8d27-8603e7ccd10a",
   "metadata": {},
   "source": [
    "#### Model Training\n",
    "Train the basic ranking model for a few epochs and output the accuracy on the training set and also on the validation set."
   ]
  },
  {
   "cell_type": "code",
   "execution_count": 39,
   "id": "c97ed743-45fe-44ea-b965-6329af81703d",
   "metadata": {},
   "outputs": [],
   "source": [
    "model_br = ModelBasicRanking()\n",
    "model_br.compile(optimizer=tf.keras.optimizers.Adagrad(learning_rate=0.1))"
   ]
  },
  {
   "cell_type": "code",
   "execution_count": 40,
   "id": "25f7b8c6-5a1e-4738-b909-51fcf4b3a944",
   "metadata": {},
   "outputs": [
    {
     "name": "stdout",
     "output_type": "stream",
     "text": [
      "Epoch 1/3\n",
      "8/8 [==============================] - 19s 1s/step - root_mean_squared_error: 2.5269 - loss: 5.8033 - regularization_loss: 0.0000e+00 - total_loss: 5.8033 - val_root_mean_squared_error: 1.1370 - val_loss: 1.2956 - val_regularization_loss: 0.0000e+00 - val_total_loss: 1.2956\n",
      "Epoch 2/3\n",
      "8/8 [==============================] - 0s 6ms/step - root_mean_squared_error: 1.1187 - loss: 1.2505 - regularization_loss: 0.0000e+00 - total_loss: 1.2505 - val_root_mean_squared_error: 1.1401 - val_loss: 1.3050 - val_regularization_loss: 0.0000e+00 - val_total_loss: 1.3050\n",
      "Epoch 3/3\n",
      "8/8 [==============================] - 0s 6ms/step - root_mean_squared_error: 1.1081 - loss: 1.2265 - regularization_loss: 0.0000e+00 - total_loss: 1.2265 - val_root_mean_squared_error: 1.1391 - val_loss: 1.3031 - val_regularization_loss: 0.0000e+00 - val_total_loss: 1.3031\n"
     ]
    }
   ],
   "source": [
    "history_br = model_br.fit(cached_train, epochs=3, validation_data=cached_validation)"
   ]
  },
  {
   "cell_type": "code",
   "execution_count": 41,
   "id": "975923cd-5471-4f58-90ec-4bee588b524a",
   "metadata": {},
   "outputs": [
    {
     "name": "stdout",
     "output_type": "stream",
     "text": [
      "{'loss': [1.2727948427200317, 1.2426050901412964, 1.2152608633041382],\n",
      " 'regularization_loss': [0, 0, 0],\n",
      " 'root_mean_squared_error': [2.5268912315368652,\n",
      "                             1.1187320947647095,\n",
      "                             1.1081016063690186],\n",
      " 'total_loss': [1.2727948427200317, 1.2426050901412964, 1.2152608633041382],\n",
      " 'val_loss': [1.2956467866897583, 1.3050323724746704, 1.303053379058838],\n",
      " 'val_regularization_loss': [0, 0, 0],\n",
      " 'val_root_mean_squared_error': [1.1369529962539673,\n",
      "                                 1.140109896659851,\n",
      "                                 1.1390788555145264],\n",
      " 'val_total_loss': [1.2956467866897583, 1.3050323724746704, 1.303053379058838]}\n"
     ]
    }
   ],
   "source": [
    "pprint.pprint(history_br.history)"
   ]
  },
  {
   "cell_type": "markdown",
   "id": "a40e5332-8e78-4d36-b794-af983d9fdd35",
   "metadata": {},
   "source": [
    "The model has a performance of root mean squared error (RMSE) between predicted and true user ratings of movies of about 1.1, and the value is similar for training and validation, indicating that with the short training duration here the model has not overfit."
   ]
  },
  {
   "cell_type": "code",
   "execution_count": 52,
   "id": "3972502f-a323-4376-9a20-f169a909b227",
   "metadata": {},
   "outputs": [
    {
     "name": "stdout",
     "output_type": "stream",
     "text": [
      "Training RSME: 1.11\n",
      "Validation RSME: 1.14\n"
     ]
    }
   ],
   "source": [
    "rsme_br = history_br.history['root_mean_squared_error'][-1]\n",
    "val_rsme_br = history_br.history['val_root_mean_squared_error'][-1]\n",
    "\n",
    "print('Training RSME: {:.2f}'.format(rsme_br))\n",
    "print('Validation RSME: {:.2f}'.format(val_rsme_br))"
   ]
  },
  {
   "cell_type": "code",
   "execution_count": 43,
   "id": "9ce49e18-3aad-45c0-a652-440801e493dd",
   "metadata": {},
   "outputs": [
    {
     "data": {
      "text/plain": [
       "<matplotlib.legend.Legend at 0x7f93f53fde50>"
      ]
     },
     "execution_count": 43,
     "metadata": {},
     "output_type": "execute_result"
    },
    {
     "data": {
      "image/png": "[encoded data removed]",
      "text/plain": [
       "<Figure size 432x288 with 1 Axes>"
      ]
     },
     "metadata": {},
     "output_type": "display_data"
    }
   ],
   "source": [
    "num_validation_runs = len(history_br.history['val_root_mean_squared_error'])\n",
    "validation_freq = 1\n",
    "epochs = [(x + 1) * validation_freq for x in range(num_validation_runs)]\n",
    "\n",
    "plt.plot(history_br.history['root_mean_squared_error'], label='Training')\n",
    "plt.plot(history_br.history['val_root_mean_squared_error'], label='Validation')\n",
    "plt.title('Root mean squared error in user rating vs. training epoch')\n",
    "plt.xlabel('Training Epochs')\n",
    "plt.ylabel('Root mean squared error in user rating')\n",
    "plt.legend()"
   ]
  },
  {
   "cell_type": "markdown",
   "id": "34d23c16-ede8-4bef-9ac6-c007b5c2966e",
   "metadata": {},
   "source": [
    "Inspect the model architecture via `Model.summary()`."
   ]
  },
  {
   "cell_type": "code",
   "execution_count": 44,
   "id": "005f61f5-2ac4-413a-aa6d-07e2d1425568",
   "metadata": {},
   "outputs": [
    {
     "name": "stdout",
     "output_type": "stream",
     "text": [
      "Model: \"model_basic_ranking_2\"\n",
      "_________________________________________________________________\n",
      " Layer (type)                Output Shape              Param #   \n",
      "=================================================================\n",
      " sequential_6 (Sequential)   (None, 32)                53280     \n",
      "                                                                 \n",
      " sequential_7 (Sequential)   (None, 32)                30208     \n",
      "                                                                 \n",
      " sequential_8 (Sequential)   (None, 1)                 33153     \n",
      "                                                                 \n",
      " ranking_2 (Ranking)         multiple                  0         \n",
      "                                                                 \n",
      "=================================================================\n",
      "Total params: 116,641\n",
      "Trainable params: 116,641\n",
      "Non-trainable params: 0\n",
      "_________________________________________________________________\n"
     ]
    }
   ],
   "source": [
    "model_br.summary()"
   ]
  },
  {
   "cell_type": "markdown",
   "id": "a37e00bb-10b1-47a9-ba38-3c1efe163fe3",
   "metadata": {},
   "source": [
    "#### Model Evaluation\n",
    "Evaluate the trained model agaist the cached test dataset."
   ]
  },
  {
   "cell_type": "code",
   "execution_count": 45,
   "id": "6668197e-f82b-4cb2-883a-4c12fac0b898",
   "metadata": {},
   "outputs": [
    {
     "name": "stdout",
     "output_type": "stream",
     "text": [
      "5/5 [==============================] - 7s 19ms/step - root_mean_squared_error: 1.1141 - loss: 1.2387 - regularization_loss: 0.0000e+00 - total_loss: 1.2387\n"
     ]
    }
   ],
   "source": [
    "evaluation_br = model_br.evaluate(cached_test, return_dict=True)"
   ]
  },
  {
   "cell_type": "code",
   "execution_count": 48,
   "id": "5c674b04-641c-457b-8cfb-21982e948c27",
   "metadata": {},
   "outputs": [
    {
     "data": {
      "text/plain": [
       "{'root_mean_squared_error': 1.11407470703125,\n",
       " 'loss': 1.2303677797317505,\n",
       " 'regularization_loss': 0,\n",
       " 'total_loss': 1.2303677797317505}"
      ]
     },
     "execution_count": 48,
     "metadata": {},
     "output_type": "execute_result"
    }
   ],
   "source": [
    "evaluation_br"
   ]
  },
  {
   "cell_type": "code",
   "execution_count": 51,
   "id": "74eb386d-87fa-4dc6-b453-add268c7d07b",
   "metadata": {},
   "outputs": [
    {
     "name": "stdout",
     "output_type": "stream",
     "text": [
      "Evaluation RSME: 1.11\n"
     ]
    }
   ],
   "source": [
    "rsme_eval_br = evaluation_br['root_mean_squared_error']\n",
    "\n",
    "print('Evaluation RSME: {:.2f}'.format(rsme_eval_br))"
   ]
  },
  {
   "cell_type": "markdown",
   "id": "efbd0a5c-6f87-45cd-b1e3-10cbbd74867b",
   "metadata": {},
   "source": [
    "Inspect the output when calling `predict()` on the model. As written, the model prediction returns both the embeddings and predicted ratings."
   ]
  },
  {
   "cell_type": "code",
   "execution_count": 53,
   "id": "d7a4fe69-8fa1-4439-95c9-20a70a2295f8",
   "metadata": {},
   "outputs": [
    {
     "name": "stdout",
     "output_type": "stream",
     "text": [
      "5/5 [==============================] - 0s 7ms/step\n"
     ]
    },
    {
     "data": {
      "text/plain": [
       "(array([[ 0.01245945,  0.01495936, -0.01818842, ...,  0.04419737,\n",
       "          0.021081  , -0.03585839],\n",
       "        [ 0.02808915, -0.04886239, -0.03236403, ..., -0.04018389,\n",
       "          0.00144045, -0.01762201],\n",
       "        [ 0.01965872, -0.04033671, -0.02286918, ..., -0.02471747,\n",
       "          0.04037458,  0.02035589],\n",
       "        ...,\n",
       "        [ 0.00980061,  0.01124493,  0.01731365, ..., -0.03023567,\n",
       "          0.01569464,  0.01913308],\n",
       "        [ 0.03816751, -0.00214174, -0.02067989, ...,  0.03537724,\n",
       "         -0.03579115, -0.04890109],\n",
       "        [ 0.00534248, -0.03150116,  0.03796741, ...,  0.01551921,\n",
       "         -0.0421725 ,  0.01977516]], dtype=float32),\n",
       " array([[ 9.7947046e-03,  2.3573948e-02, -3.6175787e-02, ...,\n",
       "          4.0159959e-02,  2.0572212e-02,  3.0795708e-02],\n",
       "        [-3.7286791e-03,  4.7210958e-02, -4.5613155e-02, ...,\n",
       "         -8.3289240e-03, -1.7311914e-02, -3.3461288e-02],\n",
       "        [ 8.7674816e-06, -2.2235097e-02, -1.5709866e-02, ...,\n",
       "          2.4766916e-02,  1.6739096e-02, -3.8537495e-02],\n",
       "        ...,\n",
       "        [ 1.8764609e-02, -3.3786997e-02,  2.0109439e-02, ...,\n",
       "         -4.6320785e-02, -1.9190395e-02,  1.3758706e-02],\n",
       "        [-2.2969283e-04,  3.9790690e-02,  2.3320016e-02, ...,\n",
       "         -2.5443880e-02,  1.9359979e-03, -1.4599123e-02],\n",
       "        [ 4.1570812e-03,  4.8257992e-02, -4.1750722e-02, ...,\n",
       "          4.1866742e-02, -1.5227741e-02,  1.6259765e-02]], dtype=float32),\n",
       " array([[3.567554 ],\n",
       "        [3.5490232],\n",
       "        [3.6894293],\n",
       "        ...,\n",
       "        [3.60716  ],\n",
       "        [3.5222287],\n",
       "        [3.5146928]], dtype=float32))"
      ]
     },
     "execution_count": 53,
     "metadata": {},
     "output_type": "execute_result"
    }
   ],
   "source": [
    "model_br.predict(cached_test)"
   ]
  },
  {
   "cell_type": "markdown",
   "id": "7cec8333-7792-4c2a-ba25-d17b2a8ebea6",
   "metadata": {},
   "source": [
    "### Tuned Ranking Model\n",
    "For this model, we perform some basic tuning on the neural network layer by training it for more epochs and allowing its initial learning rate to vary. We also add regularisation to help avoid overfitting that could result from longer training."
   ]
  },
  {
   "cell_type": "code",
   "execution_count": 54,
   "id": "e5267e3d-cf2e-4be1-8b42-bc2077e7247d",
   "metadata": {},
   "outputs": [],
   "source": [
    "class ModelTunedRanking(tfrs.models.Model):\n",
    "    \n",
    "    def __init__(self) -> None:\n",
    "        super().__init__()\n",
    "        embedding_dimension = 32\n",
    "        \n",
    "        self.movie_model: tf.keras.layers.Layer = tf.keras.Sequential([\n",
    "            tf.keras.layers.StringLookup(vocabulary=unique_movie_titles, mask_token=None),\n",
    "            tf.keras.layers.Embedding(len(unique_movie_titles) + 1, embedding_dimension)\n",
    "        ])\n",
    "        \n",
    "        self.user_model: tf.keras.layers.Layer = tf.keras.Sequential([\n",
    "            tf.keras.layers.StringLookup(vocabulary=unique_user_ids, mask_token=None),\n",
    "            tf.keras.layers.Embedding(len(unique_user_ids) + 1, embedding_dimension)\n",
    "        ])\n",
    "        \n",
    "        self.rating_model = tf.keras.Sequential([\n",
    "            tf.keras.layers.Dense(256, activation='relu', kernel_regularizer=tf.keras.regularizers.l2(0.01)),\n",
    "            tf.keras.layers.Dense(64, activation='relu', kernel_regularizer=tf.keras.regularizers.l2(0.01)),\n",
    "            tf.keras.layers.Dense(1)\n",
    "        ])\n",
    "        \n",
    "        self.task : tf.keras.layers.Layer = tfrs.tasks.Ranking(\n",
    "            loss=tf.keras.losses.MeanSquaredError(),\n",
    "            metrics=[tf.keras.metrics.RootMeanSquaredError()]\n",
    "        )\n",
    "    \n",
    "    def call(self, features: Dict[Text, tf.Tensor]) -> tf.Tensor:\n",
    "        user_embeddings = self.user_model(features['user_id'])\n",
    "        movie_embeddings = self.movie_model(features['movie_title'])\n",
    "        rating_model = self.rating_model(tf.concat([user_embeddings, movie_embeddings], axis=1))\n",
    "        \n",
    "        return (user_embeddings,\n",
    "                movie_embeddings,\n",
    "                rating_model)\n",
    "    \n",
    "    def compute_loss(self, features: Dict[Text, tf.Tensor], training=False) -> tf.Tensor:\n",
    "        ratings = features.pop('user_rating')\n",
    "        user_embeddings, movie_embeddings, rating_predictions = self(features)\n",
    "        \n",
    "        rating_loss = self.task(\n",
    "            labels=ratings,\n",
    "            predictions=rating_predictions\n",
    "        )\n",
    "        \n",
    "        return rating_loss"
   ]
  },
  {
   "cell_type": "markdown",
   "id": "195b428a-34f3-4453-b972-a762e905541d",
   "metadata": {},
   "source": [
    "#### Model Training\n",
    "List some learning rates in the logarithmic scale and the number of epochs."
   ]
  },
  {
   "cell_type": "code",
   "execution_count": 55,
   "id": "a976350d-0245-4d3f-b334-6278aa8f1f91",
   "metadata": {},
   "outputs": [],
   "source": [
    "learning_rate_logarithmic = [0.001, 0.01, 0.1, 1]\n",
    "epochs = 30"
   ]
  },
  {
   "cell_type": "markdown",
   "id": "de1a73d6-efcf-4cb9-8ff6-977d18f81dbf",
   "metadata": {},
   "source": [
    "Run the logarithmic grid."
   ]
  },
  {
   "cell_type": "code",
   "execution_count": 56,
   "id": "880824da-976c-4c4f-b8e5-e66aae12f538",
   "metadata": {},
   "outputs": [
    {
     "name": "stdout",
     "output_type": "stream",
     "text": [
      "Learning rate: 0.001\n",
      "Epoch 1/30\n",
      "8/8 [==============================] - 1s 24ms/step - root_mean_squared_error: 3.6928 - loss: 13.6225 - regularization_loss: 2.0484 - total_loss: 15.6709 - val_root_mean_squared_error: 3.5886 - val_loss: 12.7858 - val_regularization_loss: 2.0473 - val_total_loss: 14.8331\n",
      "Epoch 2/30\n",
      "8/8 [==============================] - 0s 6ms/step - root_mean_squared_error: 3.6601 - loss: 13.3866 - regularization_loss: 2.0463 - total_loss: 15.4329 - val_root_mean_squared_error: 3.5615 - val_loss: 12.5929 - val_regularization_loss: 2.0453 - val_total_loss: 14.6382\n",
      "Epoch 3/30\n",
      "8/8 [==============================] - 0s 6ms/step - root_mean_squared_error: 3.6348 - loss: 13.2032 - regularization_loss: 2.0444 - total_loss: 15.2476 - val_root_mean_squared_error: 3.5378 - val_loss: 12.4258 - val_regularization_loss: 2.0434 - val_total_loss: 14.4692\n",
      "Epoch 4/30\n",
      "8/8 [==============================] - 0s 8ms/step - root_mean_squared_error: 3.6120 - loss: 13.0383 - regularization_loss: 2.0425 - total_loss: 15.0808 - val_root_mean_squared_error: 3.5159 - val_loss: 12.2716 - val_regularization_loss: 2.0415 - val_total_loss: 14.3131\n",
      "Epoch 5/30\n",
      "8/8 [==============================] - 0s 6ms/step - root_mean_squared_error: 3.5904 - loss: 12.8833 - regularization_loss: 2.0406 - total_loss: 14.9239 - val_root_mean_squared_error: 3.4948 - val_loss: 12.1248 - val_regularization_loss: 2.0397 - val_total_loss: 14.1645\n",
      "Epoch 6/30\n",
      "8/8 [==============================] - 0s 6ms/step - root_mean_squared_error: 3.5695 - loss: 12.7341 - regularization_loss: 2.0388 - total_loss: 14.7729 - val_root_mean_squared_error: 3.4742 - val_loss: 11.9820 - val_regularization_loss: 2.0379 - val_total_loss: 14.0199\n",
      "Epoch 7/30\n",
      "8/8 [==============================] - 0s 6ms/step - root_mean_squared_error: 3.5489 - loss: 12.5876 - regularization_loss: 2.0370 - total_loss: 14.6247 - val_root_mean_squared_error: 3.4538 - val_loss: 11.8407 - val_regularization_loss: 2.0361 - val_total_loss: 13.8769\n",
      "Epoch 8/30\n",
      "8/8 [==============================] - 0s 7ms/step - root_mean_squared_error: 3.5284 - loss: 12.4420 - regularization_loss: 2.0353 - total_loss: 14.4773 - val_root_mean_squared_error: 3.4331 - val_loss: 11.6994 - val_regularization_loss: 2.0344 - val_total_loss: 13.7338\n",
      "Epoch 9/30\n",
      "8/8 [==============================] - 0s 6ms/step - root_mean_squared_error: 3.5076 - loss: 12.2959 - regularization_loss: 2.0336 - total_loss: 14.3295 - val_root_mean_squared_error: 3.4123 - val_loss: 11.5570 - val_regularization_loss: 2.0328 - val_total_loss: 13.5898\n",
      "Epoch 10/30\n",
      "8/8 [==============================] - 0s 6ms/step - root_mean_squared_error: 3.4865 - loss: 12.1485 - regularization_loss: 2.0320 - total_loss: 14.1805 - val_root_mean_squared_error: 3.3911 - val_loss: 11.4135 - val_regularization_loss: 2.0312 - val_total_loss: 13.4447\n",
      "Epoch 11/30\n",
      "8/8 [==============================] - 0s 6ms/step - root_mean_squared_error: 3.4651 - loss: 11.9997 - regularization_loss: 2.0304 - total_loss: 14.0301 - val_root_mean_squared_error: 3.3696 - val_loss: 11.2689 - val_regularization_loss: 2.0296 - val_total_loss: 13.2985\n",
      "Epoch 12/30\n",
      "8/8 [==============================] - 0s 6ms/step - root_mean_squared_error: 3.4434 - loss: 11.8495 - regularization_loss: 2.0289 - total_loss: 13.8783 - val_root_mean_squared_error: 3.3478 - val_loss: 11.1230 - val_regularization_loss: 2.0281 - val_total_loss: 13.1511\n",
      "Epoch 13/30\n",
      "8/8 [==============================] - 0s 9ms/step - root_mean_squared_error: 3.4213 - loss: 11.6977 - regularization_loss: 2.0274 - total_loss: 13.7251 - val_root_mean_squared_error: 3.3256 - val_loss: 10.9757 - val_regularization_loss: 2.0266 - val_total_loss: 13.0023\n",
      "Epoch 14/30\n",
      "8/8 [==============================] - 0s 7ms/step - root_mean_squared_error: 3.3988 - loss: 11.5444 - regularization_loss: 2.0259 - total_loss: 13.5703 - val_root_mean_squared_error: 3.3030 - val_loss: 10.8268 - val_regularization_loss: 2.0252 - val_total_loss: 12.8520\n",
      "Epoch 15/30\n",
      "8/8 [==============================] - 0s 7ms/step - root_mean_squared_error: 3.3760 - loss: 11.3892 - regularization_loss: 2.0245 - total_loss: 13.4137 - val_root_mean_squared_error: 3.2800 - val_loss: 10.6761 - val_regularization_loss: 2.0238 - val_total_loss: 12.6999\n",
      "Epoch 16/30\n",
      "8/8 [==============================] - 0s 7ms/step - root_mean_squared_error: 3.3526 - loss: 11.2319 - regularization_loss: 2.0231 - total_loss: 13.2551 - val_root_mean_squared_error: 3.2566 - val_loss: 10.5235 - val_regularization_loss: 2.0224 - val_total_loss: 12.5460\n",
      "Epoch 17/30\n",
      "8/8 [==============================] - 0s 8ms/step - root_mean_squared_error: 3.3288 - loss: 11.0726 - regularization_loss: 2.0218 - total_loss: 13.0944 - val_root_mean_squared_error: 3.2326 - val_loss: 10.3689 - val_regularization_loss: 2.0211 - val_total_loss: 12.3900\n",
      "Epoch 18/30\n",
      "8/8 [==============================] - 0s 6ms/step - root_mean_squared_error: 3.3045 - loss: 10.9112 - regularization_loss: 2.0205 - total_loss: 12.9317 - val_root_mean_squared_error: 3.2082 - val_loss: 10.2123 - val_regularization_loss: 2.0198 - val_total_loss: 12.2322\n",
      "Epoch 19/30\n",
      "8/8 [==============================] - 0s 7ms/step - root_mean_squared_error: 3.2796 - loss: 10.7475 - regularization_loss: 2.0192 - total_loss: 12.7668 - val_root_mean_squared_error: 3.1833 - val_loss: 10.0537 - val_regularization_loss: 2.0186 - val_total_loss: 12.0723\n",
      "Epoch 20/30\n",
      "8/8 [==============================] - 0s 7ms/step - root_mean_squared_error: 3.2543 - loss: 10.5817 - regularization_loss: 2.0180 - total_loss: 12.5997 - val_root_mean_squared_error: 3.1578 - val_loss: 9.8931 - val_regularization_loss: 2.0174 - val_total_loss: 11.9105\n",
      "Epoch 21/30\n",
      "8/8 [==============================] - 0s 6ms/step - root_mean_squared_error: 3.2284 - loss: 10.4138 - regularization_loss: 2.0168 - total_loss: 12.4306 - val_root_mean_squared_error: 3.1319 - val_loss: 9.7305 - val_regularization_loss: 2.0162 - val_total_loss: 11.7468\n",
      "Epoch 22/30\n",
      "8/8 [==============================] - 0s 6ms/step - root_mean_squared_error: 3.2019 - loss: 10.2438 - regularization_loss: 2.0157 - total_loss: 12.2594 - val_root_mean_squared_error: 3.1054 - val_loss: 9.5661 - val_regularization_loss: 2.0151 - val_total_loss: 11.5812\n",
      "Epoch 23/30\n",
      "8/8 [==============================] - 0s 7ms/step - root_mean_squared_error: 3.1750 - loss: 10.0718 - regularization_loss: 2.0145 - total_loss: 12.0863 - val_root_mean_squared_error: 3.0784 - val_loss: 9.4000 - val_regularization_loss: 2.0140 - val_total_loss: 11.4139\n",
      "Epoch 24/30\n",
      "8/8 [==============================] - 0s 7ms/step - root_mean_squared_error: 3.1475 - loss: 9.8980 - regularization_loss: 2.0134 - total_loss: 11.9114 - val_root_mean_squared_error: 3.0509 - val_loss: 9.2322 - val_regularization_loss: 2.0129 - val_total_loss: 11.2450\n",
      "Epoch 25/30\n",
      "8/8 [==============================] - 0s 10ms/step - root_mean_squared_error: 3.1195 - loss: 9.7223 - regularization_loss: 2.0124 - total_loss: 11.7347 - val_root_mean_squared_error: 3.0229 - val_loss: 9.0628 - val_regularization_loss: 2.0118 - val_total_loss: 11.0746\n",
      "Epoch 26/30\n",
      "8/8 [==============================] - 0s 8ms/step - root_mean_squared_error: 3.0910 - loss: 9.5451 - regularization_loss: 2.0113 - total_loss: 11.5564 - val_root_mean_squared_error: 2.9944 - val_loss: 8.8921 - val_regularization_loss: 2.0108 - val_total_loss: 10.9029\n",
      "Epoch 27/30\n",
      "8/8 [==============================] - 0s 7ms/step - root_mean_squared_error: 3.0619 - loss: 9.3664 - regularization_loss: 2.0103 - total_loss: 11.3767 - val_root_mean_squared_error: 2.9654 - val_loss: 8.7202 - val_regularization_loss: 2.0098 - val_total_loss: 10.7300\n",
      "Epoch 28/30\n",
      "8/8 [==============================] - 0s 7ms/step - root_mean_squared_error: 3.0324 - loss: 9.1864 - regularization_loss: 2.0093 - total_loss: 11.1957 - val_root_mean_squared_error: 2.9359 - val_loss: 8.5472 - val_regularization_loss: 2.0088 - val_total_loss: 10.5560\n",
      "Epoch 29/30\n",
      "8/8 [==============================] - 0s 7ms/step - root_mean_squared_error: 3.0024 - loss: 9.0053 - regularization_loss: 2.0084 - total_loss: 11.0136 - val_root_mean_squared_error: 2.9060 - val_loss: 8.3734 - val_regularization_loss: 2.0079 - val_total_loss: 10.3812\n",
      "Epoch 30/30\n",
      "8/8 [==============================] - 0s 6ms/step - root_mean_squared_error: 2.9719 - loss: 8.8232 - regularization_loss: 2.0074 - total_loss: 10.8306 - val_root_mean_squared_error: 2.8757 - val_loss: 8.1989 - val_regularization_loss: 2.0069 - val_total_loss: 10.2059\n",
      "Learning rate: 0.01\n",
      "Epoch 1/30\n",
      "8/8 [==============================] - 1s 27ms/step - root_mean_squared_error: 3.4265 - loss: 11.4860 - regularization_loss: 2.0478 - total_loss: 13.5337 - val_root_mean_squared_error: 2.8829 - val_loss: 8.2413 - val_regularization_loss: 2.0404 - val_total_loss: 10.2817\n",
      "Epoch 2/30\n",
      "8/8 [==============================] - 0s 6ms/step - root_mean_squared_error: 2.4856 - loss: 5.8995 - regularization_loss: 2.0383 - total_loss: 7.9377 - val_root_mean_squared_error: 1.7256 - val_loss: 2.9455 - val_regularization_loss: 2.0374 - val_total_loss: 4.9829\n",
      "Epoch 3/30\n",
      "8/8 [==============================] - 0s 6ms/step - root_mean_squared_error: 1.4493 - loss: 2.0258 - regularization_loss: 2.0356 - total_loss: 4.0614 - val_root_mean_squared_error: 1.1619 - val_loss: 1.3463 - val_regularization_loss: 2.0316 - val_total_loss: 3.3779\n",
      "Epoch 4/30\n",
      "8/8 [==============================] - 0s 6ms/step - root_mean_squared_error: 1.1416 - loss: 1.2998 - regularization_loss: 2.0242 - total_loss: 3.3240 - val_root_mean_squared_error: 1.1326 - val_loss: 1.2867 - val_regularization_loss: 2.0154 - val_total_loss: 3.3021\n",
      "Epoch 5/30\n",
      "8/8 [==============================] - 0s 7ms/step - root_mean_squared_error: 1.1231 - loss: 1.2616 - regularization_loss: 2.0062 - total_loss: 3.2678 - val_root_mean_squared_error: 1.1338 - val_loss: 1.2905 - val_regularization_loss: 1.9962 - val_total_loss: 3.2867\n",
      "Epoch 6/30\n",
      "8/8 [==============================] - 0s 7ms/step - root_mean_squared_error: 1.1209 - loss: 1.2568 - regularization_loss: 1.9867 - total_loss: 3.2435 - val_root_mean_squared_error: 1.1338 - val_loss: 1.2906 - val_regularization_loss: 1.9767 - val_total_loss: 3.2673\n",
      "Epoch 7/30\n",
      "8/8 [==============================] - 0s 7ms/step - root_mean_squared_error: 1.1192 - loss: 1.2531 - regularization_loss: 1.9673 - total_loss: 3.2204 - val_root_mean_squared_error: 1.1335 - val_loss: 1.2900 - val_regularization_loss: 1.9574 - val_total_loss: 3.2473\n",
      "Epoch 8/30\n",
      "8/8 [==============================] - 0s 6ms/step - root_mean_squared_error: 1.1176 - loss: 1.2495 - regularization_loss: 1.9481 - total_loss: 3.1976 - val_root_mean_squared_error: 1.1331 - val_loss: 1.2892 - val_regularization_loss: 1.9383 - val_total_loss: 3.2275\n",
      "Epoch 9/30\n",
      "8/8 [==============================] - 0s 7ms/step - root_mean_squared_error: 1.1161 - loss: 1.2460 - regularization_loss: 1.9291 - total_loss: 3.1751 - val_root_mean_squared_error: 1.1328 - val_loss: 1.2885 - val_regularization_loss: 1.9194 - val_total_loss: 3.2079\n",
      "Epoch 10/30\n",
      "8/8 [==============================] - 0s 6ms/step - root_mean_squared_error: 1.1145 - loss: 1.2425 - regularization_loss: 1.9103 - total_loss: 3.1528 - val_root_mean_squared_error: 1.1325 - val_loss: 1.2878 - val_regularization_loss: 1.9007 - val_total_loss: 3.1885\n",
      "Epoch 11/30\n",
      "8/8 [==============================] - 0s 7ms/step - root_mean_squared_error: 1.1129 - loss: 1.2390 - regularization_loss: 1.8917 - total_loss: 3.1307 - val_root_mean_squared_error: 1.1321 - val_loss: 1.2871 - val_regularization_loss: 1.8822 - val_total_loss: 3.1693\n",
      "Epoch 12/30\n",
      "8/8 [==============================] - 0s 6ms/step - root_mean_squared_error: 1.1114 - loss: 1.2355 - regularization_loss: 1.8734 - total_loss: 3.1088 - val_root_mean_squared_error: 1.1318 - val_loss: 1.2863 - val_regularization_loss: 1.8640 - val_total_loss: 3.1503\n",
      "Epoch 13/30\n",
      "8/8 [==============================] - 0s 6ms/step - root_mean_squared_error: 1.1098 - loss: 1.2319 - regularization_loss: 1.8552 - total_loss: 3.0872 - val_root_mean_squared_error: 1.1314 - val_loss: 1.2856 - val_regularization_loss: 1.8459 - val_total_loss: 3.1315\n",
      "Epoch 14/30\n",
      "8/8 [==============================] - 0s 7ms/step - root_mean_squared_error: 1.1082 - loss: 1.2284 - regularization_loss: 1.8373 - total_loss: 3.0656 - val_root_mean_squared_error: 1.1311 - val_loss: 1.2849 - val_regularization_loss: 1.8281 - val_total_loss: 3.1129\n",
      "Epoch 15/30\n",
      "8/8 [==============================] - 0s 6ms/step - root_mean_squared_error: 1.1065 - loss: 1.2247 - regularization_loss: 1.8195 - total_loss: 3.0442 - val_root_mean_squared_error: 1.1307 - val_loss: 1.2841 - val_regularization_loss: 1.8104 - val_total_loss: 3.0945\n",
      "Epoch 16/30\n",
      "8/8 [==============================] - 0s 8ms/step - root_mean_squared_error: 1.1048 - loss: 1.2210 - regularization_loss: 1.8020 - total_loss: 3.0230 - val_root_mean_squared_error: 1.1304 - val_loss: 1.2834 - val_regularization_loss: 1.7930 - val_total_loss: 3.0763\n",
      "Epoch 17/30\n",
      "8/8 [==============================] - 0s 6ms/step - root_mean_squared_error: 1.1031 - loss: 1.2173 - regularization_loss: 1.7846 - total_loss: 3.0019 - val_root_mean_squared_error: 1.1300 - val_loss: 1.2826 - val_regularization_loss: 1.7757 - val_total_loss: 3.0583\n",
      "Epoch 18/30\n",
      "8/8 [==============================] - 0s 6ms/step - root_mean_squared_error: 1.1014 - loss: 1.2134 - regularization_loss: 1.7674 - total_loss: 2.9809 - val_root_mean_squared_error: 1.1296 - val_loss: 1.2818 - val_regularization_loss: 1.7587 - val_total_loss: 3.0405\n",
      "Epoch 19/30\n",
      "8/8 [==============================] - 0s 5ms/step - root_mean_squared_error: 1.0996 - loss: 1.2095 - regularization_loss: 1.7505 - total_loss: 2.9600 - val_root_mean_squared_error: 1.1293 - val_loss: 1.2810 - val_regularization_loss: 1.7418 - val_total_loss: 3.0228\n",
      "Epoch 20/30\n",
      "8/8 [==============================] - 0s 6ms/step - root_mean_squared_error: 1.0978 - loss: 1.2055 - regularization_loss: 1.7337 - total_loss: 2.9392 - val_root_mean_squared_error: 1.1289 - val_loss: 1.2802 - val_regularization_loss: 1.7251 - val_total_loss: 3.0053\n",
      "Epoch 21/30\n",
      "8/8 [==============================] - 0s 6ms/step - root_mean_squared_error: 1.0959 - loss: 1.2014 - regularization_loss: 1.7171 - total_loss: 2.9185 - val_root_mean_squared_error: 1.1285 - val_loss: 1.2793 - val_regularization_loss: 1.7087 - val_total_loss: 2.9880\n",
      "Epoch 22/30\n",
      "8/8 [==============================] - 0s 6ms/step - root_mean_squared_error: 1.0940 - loss: 1.1972 - regularization_loss: 1.7008 - total_loss: 2.8979 - val_root_mean_squared_error: 1.1280 - val_loss: 1.2785 - val_regularization_loss: 1.6924 - val_total_loss: 2.9708\n",
      "Epoch 23/30\n",
      "8/8 [==============================] - 0s 6ms/step - root_mean_squared_error: 1.0920 - loss: 1.1929 - regularization_loss: 1.6846 - total_loss: 2.8775 - val_root_mean_squared_error: 1.1276 - val_loss: 1.2775 - val_regularization_loss: 1.6763 - val_total_loss: 2.9538\n",
      "Epoch 24/30\n",
      "8/8 [==============================] - 0s 6ms/step - root_mean_squared_error: 1.0900 - loss: 1.1886 - regularization_loss: 1.6685 - total_loss: 2.8571 - val_root_mean_squared_error: 1.1272 - val_loss: 1.2766 - val_regularization_loss: 1.6603 - val_total_loss: 2.9370\n",
      "Epoch 25/30\n",
      "8/8 [==============================] - 0s 5ms/step - root_mean_squared_error: 1.0880 - loss: 1.1842 - regularization_loss: 1.6527 - total_loss: 2.8369 - val_root_mean_squared_error: 1.1267 - val_loss: 1.2757 - val_regularization_loss: 1.6446 - val_total_loss: 2.9203\n",
      "Epoch 26/30\n",
      "8/8 [==============================] - 0s 7ms/step - root_mean_squared_error: 1.0860 - loss: 1.1797 - regularization_loss: 1.6371 - total_loss: 2.8168 - val_root_mean_squared_error: 1.1263 - val_loss: 1.2747 - val_regularization_loss: 1.6290 - val_total_loss: 2.9037\n",
      "Epoch 27/30\n",
      "8/8 [==============================] - 0s 6ms/step - root_mean_squared_error: 1.0839 - loss: 1.1752 - regularization_loss: 1.6216 - total_loss: 2.7968 - val_root_mean_squared_error: 1.1258 - val_loss: 1.2737 - val_regularization_loss: 1.6137 - val_total_loss: 2.8874\n",
      "Epoch 28/30\n",
      "8/8 [==============================] - 0s 6ms/step - root_mean_squared_error: 1.0818 - loss: 1.1707 - regularization_loss: 1.6063 - total_loss: 2.7770 - val_root_mean_squared_error: 1.1253 - val_loss: 1.2727 - val_regularization_loss: 1.5984 - val_total_loss: 2.8711\n",
      "Epoch 29/30\n",
      "8/8 [==============================] - 0s 6ms/step - root_mean_squared_error: 1.0797 - loss: 1.1661 - regularization_loss: 1.5911 - total_loss: 2.7573 - val_root_mean_squared_error: 1.1248 - val_loss: 1.2716 - val_regularization_loss: 1.5834 - val_total_loss: 2.8550\n",
      "Epoch 30/30\n",
      "8/8 [==============================] - 0s 6ms/step - root_mean_squared_error: 1.0776 - loss: 1.1615 - regularization_loss: 1.5762 - total_loss: 2.7377 - val_root_mean_squared_error: 1.1243 - val_loss: 1.2705 - val_regularization_loss: 1.5685 - val_total_loss: 2.8390\n",
      "Learning rate: 0.1\n",
      "Epoch 1/30\n",
      "8/8 [==============================] - 1s 26ms/step - root_mean_squared_error: 2.3476 - loss: 5.0424 - regularization_loss: 1.9593 - total_loss: 7.0017 - val_root_mean_squared_error: 1.1751 - val_loss: 1.3897 - val_regularization_loss: 1.8701 - val_total_loss: 3.2598\n",
      "Epoch 2/30\n",
      "8/8 [==============================] - 0s 6ms/step - root_mean_squared_error: 1.1364 - loss: 1.2888 - regularization_loss: 1.7803 - total_loss: 3.0691 - val_root_mean_squared_error: 1.1449 - val_loss: 1.3160 - val_regularization_loss: 1.6920 - val_total_loss: 3.0079\n",
      "Epoch 3/30\n",
      "8/8 [==============================] - 0s 6ms/step - root_mean_squared_error: 1.1173 - loss: 1.2476 - regularization_loss: 1.6124 - total_loss: 2.8600 - val_root_mean_squared_error: 1.1394 - val_loss: 1.3026 - val_regularization_loss: 1.5329 - val_total_loss: 2.8354\n",
      "Epoch 4/30\n",
      "8/8 [==============================] - 0s 6ms/step - root_mean_squared_error: 1.1068 - loss: 1.2242 - regularization_loss: 1.4617 - total_loss: 2.6858 - val_root_mean_squared_error: 1.1368 - val_loss: 1.2967 - val_regularization_loss: 1.3904 - val_total_loss: 2.6871\n",
      "Epoch 5/30\n",
      "8/8 [==============================] - 0s 6ms/step - root_mean_squared_error: 1.0946 - loss: 1.1971 - regularization_loss: 1.3267 - total_loss: 2.5238 - val_root_mean_squared_error: 1.1346 - val_loss: 1.2916 - val_regularization_loss: 1.2630 - val_total_loss: 2.5545\n",
      "Epoch 6/30\n",
      "8/8 [==============================] - 0s 6ms/step - root_mean_squared_error: 1.0801 - loss: 1.1656 - regularization_loss: 1.2059 - total_loss: 2.3715 - val_root_mean_squared_error: 1.1319 - val_loss: 1.2855 - val_regularization_loss: 1.1491 - val_total_loss: 2.4346\n",
      "Epoch 7/30\n",
      "8/8 [==============================] - 0s 6ms/step - root_mean_squared_error: 1.0650 - loss: 1.1334 - regularization_loss: 1.0978 - total_loss: 2.2312 - val_root_mean_squared_error: 1.1284 - val_loss: 1.2777 - val_regularization_loss: 1.0469 - val_total_loss: 2.3246\n",
      "Epoch 8/30\n",
      "8/8 [==============================] - 0s 6ms/step - root_mean_squared_error: 1.0505 - loss: 1.1030 - regularization_loss: 1.0007 - total_loss: 2.1036 - val_root_mean_squared_error: 1.1240 - val_loss: 1.2681 - val_regularization_loss: 0.9550 - val_total_loss: 2.2231\n",
      "Epoch 9/30\n",
      "8/8 [==============================] - 0s 6ms/step - root_mean_squared_error: 1.0368 - loss: 1.0747 - regularization_loss: 0.9133 - total_loss: 1.9880 - val_root_mean_squared_error: 1.1191 - val_loss: 1.2575 - val_regularization_loss: 0.8724 - val_total_loss: 2.1299\n",
      "Epoch 10/30\n",
      "8/8 [==============================] - 0s 6ms/step - root_mean_squared_error: 1.0241 - loss: 1.0488 - regularization_loss: 0.8347 - total_loss: 1.8835 - val_root_mean_squared_error: 1.1141 - val_loss: 1.2467 - val_regularization_loss: 0.7981 - val_total_loss: 2.0447\n",
      "Epoch 11/30\n",
      "8/8 [==============================] - 0s 6ms/step - root_mean_squared_error: 1.0128 - loss: 1.0259 - regularization_loss: 0.7637 - total_loss: 1.7896 - val_root_mean_squared_error: 1.1092 - val_loss: 1.2363 - val_regularization_loss: 0.7309 - val_total_loss: 1.9672\n",
      "Epoch 12/30\n",
      "8/8 [==============================] - 0s 6ms/step - root_mean_squared_error: 1.0029 - loss: 1.0063 - regularization_loss: 0.6996 - total_loss: 1.7059 - val_root_mean_squared_error: 1.1045 - val_loss: 1.2266 - val_regularization_loss: 0.6700 - val_total_loss: 1.8966\n",
      "Epoch 13/30\n",
      "8/8 [==============================] - 0s 6ms/step - root_mean_squared_error: 0.9944 - loss: 0.9895 - regularization_loss: 0.6412 - total_loss: 1.6307 - val_root_mean_squared_error: 1.0998 - val_loss: 1.2167 - val_regularization_loss: 0.6145 - val_total_loss: 1.8312\n",
      "Epoch 14/30\n",
      "8/8 [==============================] - 0s 6ms/step - root_mean_squared_error: 0.9867 - loss: 0.9743 - regularization_loss: 0.5882 - total_loss: 1.5625 - val_root_mean_squared_error: 1.0948 - val_loss: 1.2060 - val_regularization_loss: 0.5639 - val_total_loss: 1.7699\n",
      "Epoch 15/30\n",
      "8/8 [==============================] - 0s 6ms/step - root_mean_squared_error: 0.9795 - loss: 0.9603 - regularization_loss: 0.5398 - total_loss: 1.5001 - val_root_mean_squared_error: 1.0897 - val_loss: 1.1952 - val_regularization_loss: 0.5178 - val_total_loss: 1.7130\n",
      "Epoch 16/30\n",
      "8/8 [==============================] - 0s 6ms/step - root_mean_squared_error: 0.9729 - loss: 0.9476 - regularization_loss: 0.4957 - total_loss: 1.4433 - val_root_mean_squared_error: 1.0851 - val_loss: 1.1852 - val_regularization_loss: 0.4758 - val_total_loss: 1.6610\n",
      "Epoch 17/30\n",
      "8/8 [==============================] - 0s 6ms/step - root_mean_squared_error: 0.9672 - loss: 0.9366 - regularization_loss: 0.4557 - total_loss: 1.3923 - val_root_mean_squared_error: 1.0811 - val_loss: 1.1767 - val_regularization_loss: 0.4376 - val_total_loss: 1.6143\n",
      "Epoch 18/30\n",
      "8/8 [==============================] - 0s 6ms/step - root_mean_squared_error: 0.9623 - loss: 0.9273 - regularization_loss: 0.4192 - total_loss: 1.3465 - val_root_mean_squared_error: 1.0778 - val_loss: 1.1696 - val_regularization_loss: 0.4029 - val_total_loss: 1.5725\n",
      "Epoch 19/30\n",
      "8/8 [==============================] - 0s 6ms/step - root_mean_squared_error: 0.9582 - loss: 0.9193 - regularization_loss: 0.3861 - total_loss: 1.3054 - val_root_mean_squared_error: 1.0750 - val_loss: 1.1637 - val_regularization_loss: 0.3714 - val_total_loss: 1.5351\n",
      "Epoch 20/30\n",
      "8/8 [==============================] - 0s 6ms/step - root_mean_squared_error: 0.9546 - loss: 0.9125 - regularization_loss: 0.3560 - total_loss: 1.2685 - val_root_mean_squared_error: 1.0726 - val_loss: 1.1588 - val_regularization_loss: 0.3427 - val_total_loss: 1.5015\n",
      "Epoch 21/30\n",
      "8/8 [==============================] - 0s 6ms/step - root_mean_squared_error: 0.9515 - loss: 0.9066 - regularization_loss: 0.3287 - total_loss: 1.2353 - val_root_mean_squared_error: 1.0706 - val_loss: 1.1546 - val_regularization_loss: 0.3168 - val_total_loss: 1.4713\n",
      "Epoch 22/30\n",
      "8/8 [==============================] - 0s 5ms/step - root_mean_squared_error: 0.9487 - loss: 0.9014 - regularization_loss: 0.3040 - total_loss: 1.2054 - val_root_mean_squared_error: 1.0689 - val_loss: 1.1509 - val_regularization_loss: 0.2932 - val_total_loss: 1.4441\n",
      "Epoch 23/30\n",
      "8/8 [==============================] - 0s 6ms/step - root_mean_squared_error: 0.9463 - loss: 0.8968 - regularization_loss: 0.2815 - total_loss: 1.1783 - val_root_mean_squared_error: 1.0673 - val_loss: 1.1476 - val_regularization_loss: 0.2718 - val_total_loss: 1.4194\n",
      "Epoch 24/30\n",
      "8/8 [==============================] - 0s 6ms/step - root_mean_squared_error: 0.9441 - loss: 0.8927 - regularization_loss: 0.2611 - total_loss: 1.1537 - val_root_mean_squared_error: 1.0659 - val_loss: 1.1448 - val_regularization_loss: 0.2523 - val_total_loss: 1.3971\n",
      "Epoch 25/30\n",
      "8/8 [==============================] - 0s 6ms/step - root_mean_squared_error: 0.9422 - loss: 0.8890 - regularization_loss: 0.2425 - total_loss: 1.1315 - val_root_mean_squared_error: 1.0647 - val_loss: 1.1422 - val_regularization_loss: 0.2347 - val_total_loss: 1.3769\n",
      "Epoch 26/30\n",
      "8/8 [==============================] - 0s 6ms/step - root_mean_squared_error: 0.9404 - loss: 0.8856 - regularization_loss: 0.2257 - total_loss: 1.1113 - val_root_mean_squared_error: 1.0636 - val_loss: 1.1400 - val_regularization_loss: 0.2187 - val_total_loss: 1.3586\n",
      "Epoch 27/30\n",
      "8/8 [==============================] - 0s 6ms/step - root_mean_squared_error: 0.9388 - loss: 0.8826 - regularization_loss: 0.2104 - total_loss: 1.0930 - val_root_mean_squared_error: 1.0626 - val_loss: 1.1379 - val_regularization_loss: 0.2041 - val_total_loss: 1.3421\n",
      "Epoch 28/30\n",
      "8/8 [==============================] - 0s 6ms/step - root_mean_squared_error: 0.9373 - loss: 0.8798 - regularization_loss: 0.1966 - total_loss: 1.0764 - val_root_mean_squared_error: 1.0617 - val_loss: 1.1361 - val_regularization_loss: 0.1909 - val_total_loss: 1.3270\n",
      "Epoch 29/30\n",
      "8/8 [==============================] - 0s 6ms/step - root_mean_squared_error: 0.9360 - loss: 0.8773 - regularization_loss: 0.1839 - total_loss: 1.0613 - val_root_mean_squared_error: 1.0610 - val_loss: 1.1345 - val_regularization_loss: 0.1789 - val_total_loss: 1.3134\n",
      "Epoch 30/30\n",
      "8/8 [==============================] - 0s 6ms/step - root_mean_squared_error: 0.9348 - loss: 0.8751 - regularization_loss: 0.1725 - total_loss: 1.0475 - val_root_mean_squared_error: 1.0603 - val_loss: 1.1331 - val_regularization_loss: 0.1680 - val_total_loss: 1.3011\n",
      "Learning rate: 1\n",
      "Epoch 1/30\n",
      "8/8 [==============================] - 1s 27ms/step - root_mean_squared_error: 10.2790 - loss: 95.2877 - regularization_loss: 31.9428 - total_loss: 127.2305 - val_root_mean_squared_error: 22.9667 - val_loss: 516.0793 - val_regularization_loss: 40.9075 - val_total_loss: 556.9868\n",
      "Epoch 2/30\n",
      "8/8 [==============================] - 0s 6ms/step - root_mean_squared_error: 131.3038 - loss: 15281.5945 - regularization_loss: 57.6332 - total_loss: 15339.2277 - val_root_mean_squared_error: 5.3051 - val_loss: 28.0081 - val_regularization_loss: 60.7109 - val_total_loss: 88.7190\n",
      "Epoch 3/30\n",
      "8/8 [==============================] - 0s 6ms/step - root_mean_squared_error: 5.3216 - loss: 28.2563 - regularization_loss: 58.1333 - total_loss: 86.3896 - val_root_mean_squared_error: 5.1878 - val_loss: 26.7795 - val_regularization_loss: 55.6760 - val_total_loss: 82.4555\n",
      "Epoch 4/30\n",
      "8/8 [==============================] - 0s 6ms/step - root_mean_squared_error: 5.2051 - loss: 27.0333 - regularization_loss: 53.7678 - total_loss: 80.8010 - val_root_mean_squared_error: 5.0789 - val_loss: 25.6691 - val_regularization_loss: 51.9041 - val_total_loss: 77.5733\n",
      "Epoch 5/30\n",
      "8/8 [==============================] - 0s 6ms/step - root_mean_squared_error: 5.0918 - loss: 25.8695 - regularization_loss: 50.3927 - total_loss: 76.2622 - val_root_mean_squared_error: 4.9764 - val_loss: 24.6468 - val_regularization_loss: 48.8920 - val_total_loss: 73.5388\n",
      "Epoch 6/30\n",
      "8/8 [==============================] - 0s 5ms/step - root_mean_squared_error: 4.9813 - loss: 24.7592 - regularization_loss: 47.6376 - total_loss: 72.3967 - val_root_mean_squared_error: 4.8751 - val_loss: 23.6604 - val_regularization_loss: 46.3780 - val_total_loss: 70.0384\n",
      "Epoch 7/30\n",
      "8/8 [==============================] - 0s 6ms/step - root_mean_squared_error: 4.8735 - loss: 23.6997 - regularization_loss: 45.3035 - total_loss: 69.0031 - val_root_mean_squared_error: 4.7769 - val_loss: 22.7238 - val_regularization_loss: 44.2163 - val_total_loss: 66.9401\n",
      "Epoch 8/30\n",
      "8/8 [==============================] - 0s 7ms/step - root_mean_squared_error: 4.7684 - loss: 22.6887 - regularization_loss: 43.2757 - total_loss: 65.9645 - val_root_mean_squared_error: 4.6784 - val_loss: 21.7966 - val_regularization_loss: 42.3190 - val_total_loss: 64.1157\n",
      "Epoch 9/30\n",
      "8/8 [==============================] - 0s 6ms/step - root_mean_squared_error: 4.6660 - loss: 21.7240 - regularization_loss: 41.4830 - total_loss: 63.2071 - val_root_mean_squared_error: 4.5794 - val_loss: 20.8857 - val_regularization_loss: 40.6293 - val_total_loss: 61.5150\n",
      "Epoch 10/30\n",
      "8/8 [==============================] - 0s 6ms/step - root_mean_squared_error: 4.5660 - loss: 20.8034 - regularization_loss: 39.8777 - total_loss: 60.6812 - val_root_mean_squared_error: 4.4798 - val_loss: 19.9851 - val_regularization_loss: 39.1080 - val_total_loss: 59.0931\n",
      "Epoch 11/30\n",
      "8/8 [==============================] - 0s 6ms/step - root_mean_squared_error: 4.4685 - loss: 19.9248 - regularization_loss: 38.4264 - total_loss: 58.3511 - val_root_mean_squared_error: 4.3796 - val_loss: 19.0968 - val_regularization_loss: 37.7267 - val_total_loss: 56.8234\n",
      "Epoch 12/30\n",
      "8/8 [==============================] - 0s 6ms/step - root_mean_squared_error: 4.3734 - loss: 19.0861 - regularization_loss: 37.1042 - total_loss: 56.1904 - val_root_mean_squared_error: 4.2806 - val_loss: 18.2382 - val_regularization_loss: 36.4641 - val_total_loss: 54.7022\n",
      "Epoch 13/30\n",
      "8/8 [==============================] - 0s 6ms/step - root_mean_squared_error: 4.2807 - loss: 18.2857 - regularization_loss: 35.8925 - total_loss: 54.1781 - val_root_mean_squared_error: 4.1836 - val_loss: 17.4149 - val_regularization_loss: 35.3036 - val_total_loss: 52.7185\n",
      "Epoch 14/30\n",
      "8/8 [==============================] - 0s 6ms/step - root_mean_squared_error: 4.1903 - loss: 17.5216 - regularization_loss: 34.7762 - total_loss: 52.2977 - val_root_mean_squared_error: 4.0894 - val_loss: 16.6330 - val_regularization_loss: 34.2321 - val_total_loss: 50.8651\n",
      "Epoch 15/30\n",
      "8/8 [==============================] - 0s 6ms/step - root_mean_squared_error: 4.1022 - loss: 16.7921 - regularization_loss: 33.7435 - total_loss: 50.5356 - val_root_mean_squared_error: 3.9984 - val_loss: 15.8977 - val_regularization_loss: 33.2388 - val_total_loss: 49.1365\n",
      "Epoch 16/30\n",
      "8/8 [==============================] - 0s 6ms/step - root_mean_squared_error: 4.0162 - loss: 16.0958 - regularization_loss: 32.7845 - total_loss: 48.8803 - val_root_mean_squared_error: 3.9107 - val_loss: 15.2049 - val_regularization_loss: 32.3148 - val_total_loss: 47.5197\n",
      "Epoch 17/30\n",
      "8/8 [==============================] - 0s 6ms/step - root_mean_squared_error: 3.9324 - loss: 15.4310 - regularization_loss: 31.8911 - total_loss: 47.3222 - val_root_mean_squared_error: 3.8257 - val_loss: 14.5484 - val_regularization_loss: 31.4527 - val_total_loss: 46.0011\n",
      "Epoch 18/30\n",
      "8/8 [==============================] - 0s 6ms/step - root_mean_squared_error: 3.8506 - loss: 14.7963 - regularization_loss: 31.0565 - total_loss: 45.8528 - val_root_mean_squared_error: 3.7434 - val_loss: 13.9265 - val_regularization_loss: 30.6461 - val_total_loss: 44.5726\n",
      "Epoch 19/30\n",
      "8/8 [==============================] - 0s 6ms/step - root_mean_squared_error: 3.7709 - loss: 14.1903 - regularization_loss: 30.2746 - total_loss: 44.4650 - val_root_mean_squared_error: 3.6636 - val_loss: 13.3370 - val_regularization_loss: 29.8897 - val_total_loss: 43.2267\n",
      "Epoch 20/30\n",
      "8/8 [==============================] - 0s 6ms/step - root_mean_squared_error: 3.6932 - loss: 13.6117 - regularization_loss: 29.5406 - total_loss: 43.1523 - val_root_mean_squared_error: 3.5862 - val_loss: 12.7773 - val_regularization_loss: 29.1786 - val_total_loss: 41.9559\n",
      "Epoch 21/30\n",
      "8/8 [==============================] - 0s 6ms/step - root_mean_squared_error: 3.6175 - loss: 13.0593 - regularization_loss: 28.8499 - total_loss: 41.9092 - val_root_mean_squared_error: 3.5109 - val_loss: 12.2442 - val_regularization_loss: 28.5089 - val_total_loss: 40.7531\n",
      "Epoch 22/30\n",
      "8/8 [==============================] - 0s 6ms/step - root_mean_squared_error: 3.5436 - loss: 12.5317 - regularization_loss: 28.1988 - total_loss: 40.7305 - val_root_mean_squared_error: 3.4377 - val_loss: 11.7372 - val_regularization_loss: 27.8769 - val_total_loss: 39.6141\n",
      "Epoch 23/30\n",
      "8/8 [==============================] - 0s 6ms/step - root_mean_squared_error: 3.4717 - loss: 12.0279 - regularization_loss: 27.5839 - total_loss: 39.6118 - val_root_mean_squared_error: 3.3665 - val_loss: 11.2546 - val_regularization_loss: 27.2795 - val_total_loss: 38.5341\n",
      "Epoch 24/30\n",
      "8/8 [==============================] - 0s 6ms/step - root_mean_squared_error: 3.4015 - loss: 11.5468 - regularization_loss: 27.0021 - total_loss: 38.5490 - val_root_mean_squared_error: 3.2972 - val_loss: 10.7938 - val_regularization_loss: 26.7139 - val_total_loss: 37.5077\n",
      "Epoch 25/30\n",
      "8/8 [==============================] - 0s 6ms/step - root_mean_squared_error: 3.3331 - loss: 11.0874 - regularization_loss: 26.4509 - total_loss: 37.5383 - val_root_mean_squared_error: 3.2298 - val_loss: 10.3560 - val_regularization_loss: 26.1775 - val_total_loss: 36.5335\n",
      "Epoch 26/30\n",
      "8/8 [==============================] - 0s 6ms/step - root_mean_squared_error: 3.2665 - loss: 10.6486 - regularization_loss: 25.9279 - total_loss: 36.5765 - val_root_mean_squared_error: 3.1642 - val_loss: 9.9379 - val_regularization_loss: 25.6682 - val_total_loss: 35.6061\n",
      "Epoch 27/30\n",
      "8/8 [==============================] - 0s 6ms/step - root_mean_squared_error: 3.2016 - loss: 10.2296 - regularization_loss: 25.4309 - total_loss: 35.6605 - val_root_mean_squared_error: 3.1002 - val_loss: 9.5390 - val_regularization_loss: 25.1839 - val_total_loss: 34.7229\n",
      "Epoch 28/30\n",
      "8/8 [==============================] - 0s 6ms/step - root_mean_squared_error: 3.1383 - loss: 9.8294 - regularization_loss: 24.9580 - total_loss: 34.7874 - val_root_mean_squared_error: 3.0380 - val_loss: 9.1587 - val_regularization_loss: 24.7229 - val_total_loss: 33.8815\n",
      "Epoch 29/30\n",
      "8/8 [==============================] - 0s 6ms/step - root_mean_squared_error: 3.0766 - loss: 9.4472 - regularization_loss: 24.5076 - total_loss: 33.9548 - val_root_mean_squared_error: 2.9774 - val_loss: 8.7957 - val_regularization_loss: 24.2834 - val_total_loss: 33.0791\n",
      "Epoch 30/30\n",
      "8/8 [==============================] - 0s 6ms/step - root_mean_squared_error: 3.0166 - loss: 9.0821 - regularization_loss: 24.0780 - total_loss: 33.1601 - val_root_mean_squared_error: 2.9184 - val_loss: 8.4492 - val_regularization_loss: 23.8640 - val_total_loss: 32.3132\n"
     ]
    }
   ],
   "source": [
    "histories_tr = {}\n",
    "\n",
    "for learning_rate in learning_rate_logarithmic:\n",
    "    print('Learning rate: {}'.format(learning_rate))\n",
    "    model_tr = ModelTunedRanking()\n",
    "    model_tr.compile(optimizer=tf.keras.optimizers.Adagrad(learning_rate=learning_rate))\n",
    "    \n",
    "    lr = str(learning_rate)\n",
    "    histories_tr[lr] = model_tr.fit(cached_train, epochs=epochs, validation_data=cached_validation)"
   ]
  },
  {
   "cell_type": "code",
   "execution_count": 57,
   "id": "ab0f8191-a816-44ca-ae4e-632acd408eb2",
   "metadata": {},
   "outputs": [
    {
     "data": {
      "text/plain": [
       "{'0.001': <keras.callbacks.History at 0x7f93f5423130>,\n",
       " '0.01': <keras.callbacks.History at 0x7f93f57ee1f0>,\n",
       " '0.1': <keras.callbacks.History at 0x7f93f5392760>,\n",
       " '1': <keras.callbacks.History at 0x7f93f567f790>}"
      ]
     },
     "execution_count": 57,
     "metadata": {},
     "output_type": "execute_result"
    }
   ],
   "source": [
    "histories_tr"
   ]
  },
  {
   "cell_type": "markdown",
   "id": "2b764086-160a-4fdc-8607-fdf52f3a83c2",
   "metadata": {},
   "source": [
    "Print the history for the learning rate of 0.1"
   ]
  },
  {
   "cell_type": "code",
   "execution_count": 58,
   "id": "91b456eb-04b3-480e-a398-2fe5978d5304",
   "metadata": {},
   "outputs": [
    {
     "name": "stdout",
     "output_type": "stream",
     "text": [
      "{'loss': [1.3927000761032104, 1.2683188915252686, 1.2422082424163818,\n",
      "          1.2181053161621094, 1.1890560388565063, 1.1570007801055908,\n",
      "          1.1264005899429321, 1.098044991493225, 1.0719166994094849,\n",
      "          1.048281192779541, 1.0277040004730225, 1.0102273225784302,\n",
      "          0.9948394894599915, 0.9806035757064819, 0.9673331379890442,\n",
      "          0.9554618000984192, 0.94521564245224, 0.9365049600601196,\n",
      "          0.9289951324462891, 0.9224698543548584, 0.9167397022247314,\n",
      "          0.9116432070732117, 0.9070450663566589, 0.9028892517089844,\n",
      "          0.8991394639015198, 0.8957191705703735, 0.8926036357879639,\n",
      "          0.8897396922111511, 0.8871327638626099, 0.8847389221191406],\n",
      " 'regularization_loss': [1.888035535812378, 1.7109789848327637,\n",
      "                         1.5503778457641602, 1.406064510345459,\n",
      "                         1.276890516281128, 1.1613895893096924,\n",
      "                         1.0577499866485596, 0.9645450115203857,\n",
      "                         0.8806756734848022, 0.8051155209541321,\n",
      "                         0.7368738651275635, 0.6750091314315796,\n",
      "                         0.6187694668769836, 0.5675804615020752,\n",
      "                         0.5209903717041016, 0.47859227657318115,\n",
      "                         0.4400267004966736, 0.40496787428855896,\n",
      "                         0.37312716245651245, 0.34421247243881226,\n",
      "                         0.31796008348464966, 0.29412734508514404,\n",
      "                         0.2724960148334503, 0.2528626322746277,\n",
      "                         0.23503732681274414, 0.21885469555854797,\n",
      "                         0.2041575163602829, 0.190812349319458,\n",
      "                         0.17868608236312866, 0.16766607761383057],\n",
      " 'root_mean_squared_error': [2.347587823867798, 1.1363943815231323,\n",
      "                             1.1172720193862915, 1.1067686080932617,\n",
      "                             1.0946025848388672, 1.0801331996917725,\n",
      "                             1.0650273561477661, 1.0505242347717285,\n",
      "                             1.0368379354476929, 1.0241390466690063,\n",
      "                             1.012750506401062, 1.0029031038284302,\n",
      "                             0.9943756461143494, 0.9866564869880676,\n",
      "                             0.9794702529907227, 0.9729316234588623,\n",
      "                             0.9672046303749084, 0.962321937084198,\n",
      "                             0.9581587314605713, 0.9545775055885315,\n",
      "                             0.9514673352241516, 0.948735237121582,\n",
      "                             0.946304440498352, 0.944120466709137,\n",
      "                             0.9421594142913818, 0.9403908848762512,\n",
      "                             0.9387826323509216, 0.9373205304145813,\n",
      "                             0.9359897971153259, 0.9347770810127258],\n",
      " 'total_loss': [3.280735492706299, 2.9792978763580322, 2.792586088180542,\n",
      "                2.6241698265075684, 2.465946674346924, 2.318390369415283,\n",
      "                2.1841506958007812, 2.0625901222229004, 1.952592372894287,\n",
      "                1.8533966541290283, 1.764577865600586, 1.6852364540100098,\n",
      "                1.613608956336975, 1.5481840372085571, 1.488323450088501,\n",
      "                1.4340541362762451, 1.3852423429489136, 1.341472864151001,\n",
      "                1.3021223545074463, 1.2666823863983154, 1.2346997261047363,\n",
      "                1.205770492553711, 1.1795411109924316, 1.1557519435882568,\n",
      "                1.1341767311096191, 1.1145738363265991, 1.0967611074447632,\n",
      "                1.080552101135254, 1.0658187866210938, 1.0524049997329712],\n",
      " 'val_loss': [1.389717936515808, 1.3159581422805786, 1.3025726079940796,\n",
      "              1.2966995239257812, 1.2915507555007935, 1.2855418920516968,\n",
      "              1.2776944637298584, 1.268114686012268, 1.2575095891952515,\n",
      "              1.2466593980789185, 1.2363356351852417, 1.2266247272491455,\n",
      "              1.2166556119918823, 1.2060014009475708, 1.1951777935028076,\n",
      "              1.1852144002914429, 1.1766761541366577, 1.1696029901504517,\n",
      "              1.163717269897461, 1.1587563753128052, 1.1545568704605103,\n",
      "              1.150901436805725, 1.147648572921753, 1.144757866859436,\n",
      "              1.1422295570373535, 1.1399563550949097, 1.1379457712173462,\n",
      "              1.1361280679702759, 1.1345261335372925, 1.1331104040145874],\n",
      " 'val_regularization_loss': [1.8701159954071045, 1.691970705986023,\n",
      "                             1.5328643321990967, 1.390388011932373,\n",
      "                             1.2629907131195068, 1.149088740348816,\n",
      "                             1.0468785762786865, 0.9550195336341858,\n",
      "                             0.8724258542060852, 0.7980567216873169,\n",
      "                             0.7308992147445679, 0.6699828505516052,\n",
      "                             0.6145238280296326, 0.5639455914497375,\n",
      "                             0.5178275108337402, 0.4758204221725464,\n",
      "                             0.4376097321510315, 0.4028891324996948,\n",
      "                             0.371362566947937, 0.34274154901504517,\n",
      "                             0.316760390996933, 0.2931761145591736,\n",
      "                             0.27176737785339355, 0.25233471393585205,\n",
      "                             0.234691321849823, 0.21867293119430542,\n",
      "                             0.20412416756153107, 0.19091209769248962,\n",
      "                             0.17890849709510803, 0.16799861192703247],\n",
      " 'val_root_mean_squared_error': [1.1750649213790894, 1.1448785066604614,\n",
      "                                 1.1393530368804932, 1.1368472576141357,\n",
      "                                 1.1345854997634888, 1.1319042444229126,\n",
      "                                 1.1283687353134155, 1.1240142583847046,\n",
      "                                 1.1191314458847046, 1.1140624284744263,\n",
      "                                 1.1091670989990234, 1.1045217514038086,\n",
      "                                 1.0997841358184814, 1.0947812795639038,\n",
      "                                 1.0897361040115356, 1.0850917100906372,\n",
      "                                 1.0810939073562622, 1.0777606964111328,\n",
      "                                 1.0749711990356445, 1.0726099014282227,\n",
      "                                 1.0706028938293457, 1.0688529014587402,\n",
      "                                 1.0672951936721802, 1.0659101009368896,\n",
      "                                 1.0646945238113403, 1.0635998249053955,\n",
      "                                 1.0626280307769775, 1.0617481470108032,\n",
      "                                 1.0609689950942993, 1.0602768659591675],\n",
      " 'val_total_loss': [3.259833812713623, 3.0079288482666016, 2.8354368209838867,\n",
      "                    2.6870875358581543, 2.55454158782959, 2.4346306324005127,\n",
      "                    2.324573040008545, 2.2231342792510986, 2.1299355030059814,\n",
      "                    2.0447161197662354, 1.9672348499298096, 1.8966076374053955,\n",
      "                    1.8311793804168701, 1.7699470520019531, 1.7130053043365479,\n",
      "                    1.6610348224639893, 1.614285945892334, 1.5724921226501465,\n",
      "                    1.535079836845398, 1.5014979839324951, 1.4713172912597656,\n",
      "                    1.444077491760254, 1.4194159507751465, 1.397092580795288,\n",
      "                    1.3769209384918213, 1.3586292266845703, 1.3420699834823608,\n",
      "                    1.327040195465088, 1.3134346008300781, 1.3011090755462646]}\n"
     ]
    }
   ],
   "source": [
    "pprint.pprint(histories_tr['0.1'].history, compact=True)"
   ]
  },
  {
   "cell_type": "code",
   "execution_count": 61,
   "id": "0c94afad-e008-4739-aef8-2bcec439cc78",
   "metadata": {},
   "outputs": [
    {
     "name": "stdout",
     "output_type": "stream",
     "text": [
      "Training RSME with learning rate 0.001: 2.97\n",
      "Validation RSME with learning rate 0.001: 2.88\n",
      "Training RSME with learning rate 0.01: 1.08\n",
      "Validation RSME with learning rate 0.01: 1.12\n",
      "Training RSME with learning rate 0.1: 0.93\n",
      "Validation RSME with learning rate 0.1: 1.06\n",
      "Training RSME with learning rate 1: 3.02\n",
      "Validation RSME with learning rate 1: 2.92\n"
     ]
    }
   ],
   "source": [
    "for learning_rate in learning_rate_logarithmic:\n",
    "    lr = str(learning_rate)\n",
    "    rsme_tr = histories_tr[lr].history['root_mean_squared_error'][-1]\n",
    "    rsme_val_tr = histories_tr[lr].history['val_root_mean_squared_error'][-1]\n",
    "    \n",
    "    print('Training RSME with learning rate {}: {:.2f}'.format(lr, rsme_tr))\n",
    "    print('Validation RSME with learning rate {}: {:.2f}'.format(lr, rsme_val_tr))"
   ]
  },
  {
   "cell_type": "code",
   "execution_count": 64,
   "id": "5d3b2f81-b3b5-4d43-ab94-5d830720e08d",
   "metadata": {},
   "outputs": [],
   "source": [
    "num_validation_runs = len(histories_tr['0.1'].history['val_root_mean_squared_error'])\n",
    "validation_freq = 1\n",
    "epochs_x = [(x + 1) * validation_freq for x in range(num_validation_runs)]"
   ]
  },
  {
   "cell_type": "code",
   "execution_count": 81,
   "id": "776ef3c3-51ff-4cc7-a755-e6b70ea4163e",
   "metadata": {},
   "outputs": [
    {
     "data": {
      "text/plain": [
       "<matplotlib.legend.Legend at 0x7f8ff4d258e0>"
      ]
     },
     "execution_count": 81,
     "metadata": {},
     "output_type": "execute_result"
    },
    {
     "data": {
      "image/png": "[encoded data removed]",
      "text/plain": [
       "<Figure size 432x288 with 1 Axes>"
      ]
     },
     "metadata": {},
     "output_type": "display_data"
    }
   ],
   "source": [
    "for learning_rate in learning_rate_logarithmic:\n",
    "    lr = str(learning_rate)\n",
    "    plt.plot(histories_tr[lr].history['root_mean_squared_error'], label=lr)\n",
    "    plt.plot(histories_tr[lr].history['val_root_mean_squared_error'], label=lr, linestyle='dotted')\n",
    "    \n",
    "plt.title('Root mean squared error in user rating vs. training epoch')\n",
    "plt.xlabel('Training epoch')\n",
    "plt.ylabel('Root mean squared error in user rating')\n",
    "plt.yscale('log')\n",
    "plt.legend()"
   ]
  },
  {
   "cell_type": "markdown",
   "id": "7e805d33-4113-40d5-9f7a-abc3446f97a5",
   "metadata": {},
   "source": [
    "It looks like learning rates closer in magnitude to 0.1 are best.\n",
    "\n",
    "Run the linear grid."
   ]
  },
  {
   "cell_type": "code",
   "execution_count": 67,
   "id": "8b0e41b4-54d7-424b-9e28-e21af9c43112",
   "metadata": {},
   "outputs": [
    {
     "name": "stdout",
     "output_type": "stream",
     "text": [
      "Learning rate: 0.05\n",
      "Epoch 1/30\n",
      "8/8 [==============================] - 1s 26ms/step - root_mean_squared_error: 2.1879 - loss: 4.3916 - regularization_loss: 2.0106 - total_loss: 6.4022 - val_root_mean_squared_error: 1.1553 - val_loss: 1.3415 - val_regularization_loss: 1.9685 - val_total_loss: 3.3099\n",
      "Epoch 2/30\n",
      "8/8 [==============================] - 0s 5ms/step - root_mean_squared_error: 1.1269 - loss: 1.2692 - regularization_loss: 1.9201 - total_loss: 3.1893 - val_root_mean_squared_error: 1.1390 - val_loss: 1.3019 - val_regularization_loss: 1.8717 - val_total_loss: 3.1735\n",
      "Epoch 3/30\n",
      "8/8 [==============================] - 0s 6ms/step - root_mean_squared_error: 1.1187 - loss: 1.2515 - regularization_loss: 1.8265 - total_loss: 3.0781 - val_root_mean_squared_error: 1.1367 - val_loss: 1.2963 - val_regularization_loss: 1.7806 - val_total_loss: 3.0769\n",
      "Epoch 4/30\n",
      "8/8 [==============================] - 0s 6ms/step - root_mean_squared_error: 1.1139 - loss: 1.2409 - regularization_loss: 1.7380 - total_loss: 2.9789 - val_root_mean_squared_error: 1.1353 - val_loss: 1.2932 - val_regularization_loss: 1.6946 - val_total_loss: 2.9878\n",
      "Epoch 5/30\n",
      "8/8 [==============================] - 0s 6ms/step - root_mean_squared_error: 1.1087 - loss: 1.2291 - regularization_loss: 1.6542 - total_loss: 2.8833 - val_root_mean_squared_error: 1.1340 - val_loss: 1.2902 - val_regularization_loss: 1.6131 - val_total_loss: 2.9033\n",
      "Epoch 6/30\n",
      "8/8 [==============================] - 0s 6ms/step - root_mean_squared_error: 1.1023 - loss: 1.2150 - regularization_loss: 1.5749 - total_loss: 2.7899 - val_root_mean_squared_error: 1.1326 - val_loss: 1.2869 - val_regularization_loss: 1.5361 - val_total_loss: 2.8230\n",
      "Epoch 7/30\n",
      "8/8 [==============================] - 0s 6ms/step - root_mean_squared_error: 1.0948 - loss: 1.1983 - regularization_loss: 1.5000 - total_loss: 2.6984 - val_root_mean_squared_error: 1.1309 - val_loss: 1.2833 - val_regularization_loss: 1.4634 - val_total_loss: 2.7467\n",
      "Epoch 8/30\n",
      "8/8 [==============================] - 0s 6ms/step - root_mean_squared_error: 1.0860 - loss: 1.1791 - regularization_loss: 1.4293 - total_loss: 2.6085 - val_root_mean_squared_error: 1.1291 - val_loss: 1.2792 - val_regularization_loss: 1.3949 - val_total_loss: 2.6741\n",
      "Epoch 9/30\n",
      "8/8 [==============================] - 0s 7ms/step - root_mean_squared_error: 1.0762 - loss: 1.1580 - regularization_loss: 1.3626 - total_loss: 2.5206 - val_root_mean_squared_error: 1.1270 - val_loss: 1.2746 - val_regularization_loss: 1.3301 - val_total_loss: 2.6048\n",
      "Epoch 10/30\n",
      "8/8 [==============================] - 0s 7ms/step - root_mean_squared_error: 1.0659 - loss: 1.1359 - regularization_loss: 1.2997 - total_loss: 2.4356 - val_root_mean_squared_error: 1.1247 - val_loss: 1.2695 - val_regularization_loss: 1.2690 - val_total_loss: 2.5385\n",
      "Epoch 11/30\n",
      "8/8 [==============================] - 0s 6ms/step - root_mean_squared_error: 1.0555 - loss: 1.1140 - regularization_loss: 1.2402 - total_loss: 2.3541 - val_root_mean_squared_error: 1.1220 - val_loss: 1.2636 - val_regularization_loss: 1.2112 - val_total_loss: 2.4748\n",
      "Epoch 12/30\n",
      "8/8 [==============================] - 0s 6ms/step - root_mean_squared_error: 1.0454 - loss: 1.0929 - regularization_loss: 1.1838 - total_loss: 2.2767 - val_root_mean_squared_error: 1.1190 - val_loss: 1.2571 - val_regularization_loss: 1.1564 - val_total_loss: 2.4135\n",
      "Epoch 13/30\n",
      "8/8 [==============================] - 0s 6ms/step - root_mean_squared_error: 1.0357 - loss: 1.0729 - regularization_loss: 1.1304 - total_loss: 2.2033 - val_root_mean_squared_error: 1.1156 - val_loss: 1.2500 - val_regularization_loss: 1.1045 - val_total_loss: 2.3545\n",
      "Epoch 14/30\n",
      "8/8 [==============================] - 0s 5ms/step - root_mean_squared_error: 1.0265 - loss: 1.0542 - regularization_loss: 1.0797 - total_loss: 2.1339 - val_root_mean_squared_error: 1.1122 - val_loss: 1.2425 - val_regularization_loss: 1.0552 - val_total_loss: 2.2978\n",
      "Epoch 15/30\n",
      "8/8 [==============================] - 0s 6ms/step - root_mean_squared_error: 1.0180 - loss: 1.0370 - regularization_loss: 1.0316 - total_loss: 2.0685 - val_root_mean_squared_error: 1.1087 - val_loss: 1.2351 - val_regularization_loss: 1.0083 - val_total_loss: 2.2434\n",
      "Epoch 16/30\n",
      "8/8 [==============================] - 0s 6ms/step - root_mean_squared_error: 1.0102 - loss: 1.0212 - regularization_loss: 0.9858 - total_loss: 2.0070 - val_root_mean_squared_error: 1.1052 - val_loss: 1.2278 - val_regularization_loss: 0.9637 - val_total_loss: 2.1915\n",
      "Epoch 17/30\n",
      "8/8 [==============================] - 0s 5ms/step - root_mean_squared_error: 1.0031 - loss: 1.0070 - regularization_loss: 0.9422 - total_loss: 1.9491 - val_root_mean_squared_error: 1.1018 - val_loss: 1.2205 - val_regularization_loss: 0.9212 - val_total_loss: 2.1418\n",
      "Epoch 18/30\n",
      "8/8 [==============================] - 0s 6ms/step - root_mean_squared_error: 0.9965 - loss: 0.9940 - regularization_loss: 0.9006 - total_loss: 1.8946 - val_root_mean_squared_error: 1.0983 - val_loss: 1.2132 - val_regularization_loss: 0.8807 - val_total_loss: 2.0940\n",
      "Epoch 19/30\n",
      "8/8 [==============================] - 0s 6ms/step - root_mean_squared_error: 0.9906 - loss: 0.9822 - regularization_loss: 0.8610 - total_loss: 1.8432 - val_root_mean_squared_error: 1.0949 - val_loss: 1.2059 - val_regularization_loss: 0.8421 - val_total_loss: 2.0480\n",
      "Epoch 20/30\n",
      "8/8 [==============================] - 0s 7ms/step - root_mean_squared_error: 0.9851 - loss: 0.9714 - regularization_loss: 0.8232 - total_loss: 1.7946 - val_root_mean_squared_error: 1.0915 - val_loss: 1.1988 - val_regularization_loss: 0.8052 - val_total_loss: 2.0039\n",
      "Epoch 21/30\n",
      "8/8 [==============================] - 0s 6ms/step - root_mean_squared_error: 0.9800 - loss: 0.9616 - regularization_loss: 0.7871 - total_loss: 1.7487 - val_root_mean_squared_error: 1.0883 - val_loss: 1.1919 - val_regularization_loss: 0.7699 - val_total_loss: 1.9618\n",
      "Epoch 22/30\n",
      "8/8 [==============================] - 0s 6ms/step - root_mean_squared_error: 0.9754 - loss: 0.9527 - regularization_loss: 0.7527 - total_loss: 1.7054 - val_root_mean_squared_error: 1.0852 - val_loss: 1.1855 - val_regularization_loss: 0.7363 - val_total_loss: 1.9219\n",
      "Epoch 23/30\n",
      "8/8 [==============================] - 0s 6ms/step - root_mean_squared_error: 0.9713 - loss: 0.9446 - regularization_loss: 0.7199 - total_loss: 1.6645 - val_root_mean_squared_error: 1.0824 - val_loss: 1.1797 - val_regularization_loss: 0.7043 - val_total_loss: 1.8839\n",
      "Epoch 24/30\n",
      "8/8 [==============================] - 0s 6ms/step - root_mean_squared_error: 0.9675 - loss: 0.9374 - regularization_loss: 0.6885 - total_loss: 1.6259 - val_root_mean_squared_error: 1.0799 - val_loss: 1.1743 - val_regularization_loss: 0.6737 - val_total_loss: 1.8480\n",
      "Epoch 25/30\n",
      "8/8 [==============================] - 0s 6ms/step - root_mean_squared_error: 0.9641 - loss: 0.9308 - regularization_loss: 0.6586 - total_loss: 1.5894 - val_root_mean_squared_error: 1.0775 - val_loss: 1.1694 - val_regularization_loss: 0.6445 - val_total_loss: 1.8139\n",
      "Epoch 26/30\n",
      "8/8 [==============================] - 0s 6ms/step - root_mean_squared_error: 0.9610 - loss: 0.9248 - regularization_loss: 0.6302 - total_loss: 1.5550 - val_root_mean_squared_error: 1.0754 - val_loss: 1.1649 - val_regularization_loss: 0.6167 - val_total_loss: 1.7816\n",
      "Epoch 27/30\n",
      "8/8 [==============================] - 0s 6ms/step - root_mean_squared_error: 0.9582 - loss: 0.9195 - regularization_loss: 0.6030 - total_loss: 1.5224 - val_root_mean_squared_error: 1.0735 - val_loss: 1.1609 - val_regularization_loss: 0.5902 - val_total_loss: 1.7511\n",
      "Epoch 28/30\n",
      "8/8 [==============================] - 0s 6ms/step - root_mean_squared_error: 0.9556 - loss: 0.9146 - regularization_loss: 0.5771 - total_loss: 1.4917 - val_root_mean_squared_error: 1.0717 - val_loss: 1.1573 - val_regularization_loss: 0.5649 - val_total_loss: 1.7222\n",
      "Epoch 29/30\n",
      "8/8 [==============================] - 0s 6ms/step - root_mean_squared_error: 0.9533 - loss: 0.9101 - regularization_loss: 0.5524 - total_loss: 1.4625 - val_root_mean_squared_error: 1.0702 - val_loss: 1.1539 - val_regularization_loss: 0.5408 - val_total_loss: 1.6948\n",
      "Epoch 30/30\n",
      "8/8 [==============================] - 0s 6ms/step - root_mean_squared_error: 0.9511 - loss: 0.9060 - regularization_loss: 0.5289 - total_loss: 1.4349 - val_root_mean_squared_error: 1.0687 - val_loss: 1.1509 - val_regularization_loss: 0.5179 - val_total_loss: 1.6688\n",
      "Learning rate: 0.1\n",
      "Epoch 1/30\n",
      "8/8 [==============================] - 1s 26ms/step - root_mean_squared_error: 2.1875 - loss: 4.4487 - regularization_loss: 1.9544 - total_loss: 6.4031 - val_root_mean_squared_error: 1.4675 - val_loss: 2.1809 - val_regularization_loss: 1.8698 - val_total_loss: 4.0507\n",
      "Epoch 2/30\n",
      "8/8 [==============================] - 0s 6ms/step - root_mean_squared_error: 1.3437 - loss: 1.7691 - regularization_loss: 1.7739 - total_loss: 3.5429 - val_root_mean_squared_error: 1.2051 - val_loss: 1.4660 - val_regularization_loss: 1.6895 - val_total_loss: 3.1555\n",
      "Epoch 3/30\n",
      "8/8 [==============================] - 0s 6ms/step - root_mean_squared_error: 1.1547 - loss: 1.3282 - regularization_loss: 1.6075 - total_loss: 2.9357 - val_root_mean_squared_error: 1.1573 - val_loss: 1.3486 - val_regularization_loss: 1.5291 - val_total_loss: 2.8777\n",
      "Epoch 4/30\n",
      "8/8 [==============================] - 0s 6ms/step - root_mean_squared_error: 1.1196 - loss: 1.2520 - regularization_loss: 1.4567 - total_loss: 2.7088 - val_root_mean_squared_error: 1.1450 - val_loss: 1.3189 - val_regularization_loss: 1.3858 - val_total_loss: 2.7047\n",
      "Epoch 5/30\n",
      "8/8 [==============================] - 0s 6ms/step - root_mean_squared_error: 1.1047 - loss: 1.2194 - regularization_loss: 1.3213 - total_loss: 2.5407 - val_root_mean_squared_error: 1.1408 - val_loss: 1.3093 - val_regularization_loss: 1.2577 - val_total_loss: 2.5670\n",
      "Epoch 6/30\n",
      "8/8 [==============================] - 0s 6ms/step - root_mean_squared_error: 1.0912 - loss: 1.1895 - regularization_loss: 1.2002 - total_loss: 2.3897 - val_root_mean_squared_error: 1.1384 - val_loss: 1.3040 - val_regularization_loss: 1.1434 - val_total_loss: 2.4474\n",
      "Epoch 7/30\n",
      "8/8 [==============================] - 0s 6ms/step - root_mean_squared_error: 1.0766 - loss: 1.1580 - regularization_loss: 1.0918 - total_loss: 2.2499 - val_root_mean_squared_error: 1.1361 - val_loss: 1.2993 - val_regularization_loss: 1.0412 - val_total_loss: 2.3405\n",
      "Epoch 8/30\n",
      "8/8 [==============================] - 0s 6ms/step - root_mean_squared_error: 1.0621 - loss: 1.1271 - regularization_loss: 0.9949 - total_loss: 2.1220 - val_root_mean_squared_error: 1.1337 - val_loss: 1.2945 - val_regularization_loss: 0.9496 - val_total_loss: 2.2441\n",
      "Epoch 9/30\n",
      "8/8 [==============================] - 0s 7ms/step - root_mean_squared_error: 1.0486 - loss: 1.0989 - regularization_loss: 0.9078 - total_loss: 2.0067 - val_root_mean_squared_error: 1.1309 - val_loss: 1.2887 - val_regularization_loss: 0.8673 - val_total_loss: 2.1560\n",
      "Epoch 10/30\n",
      "8/8 [==============================] - 0s 6ms/step - root_mean_squared_error: 1.0364 - loss: 1.0738 - regularization_loss: 0.8294 - total_loss: 1.9032 - val_root_mean_squared_error: 1.1274 - val_loss: 1.2814 - val_regularization_loss: 0.7932 - val_total_loss: 2.0746\n",
      "Epoch 11/30\n",
      "8/8 [==============================] - 0s 6ms/step - root_mean_squared_error: 1.0252 - loss: 1.0510 - regularization_loss: 0.7587 - total_loss: 1.8097 - val_root_mean_squared_error: 1.1231 - val_loss: 1.2723 - val_regularization_loss: 0.7263 - val_total_loss: 1.9986\n",
      "Epoch 12/30\n",
      "8/8 [==============================] - 0s 5ms/step - root_mean_squared_error: 1.0149 - loss: 1.0301 - regularization_loss: 0.6949 - total_loss: 1.7250 - val_root_mean_squared_error: 1.1179 - val_loss: 1.2612 - val_regularization_loss: 0.6658 - val_total_loss: 1.9270\n",
      "Epoch 13/30\n",
      "8/8 [==============================] - 0s 6ms/step - root_mean_squared_error: 1.0052 - loss: 1.0107 - regularization_loss: 0.6371 - total_loss: 1.6478 - val_root_mean_squared_error: 1.1120 - val_loss: 1.2484 - val_regularization_loss: 0.6108 - val_total_loss: 1.8592\n",
      "Epoch 14/30\n",
      "8/8 [==============================] - 0s 6ms/step - root_mean_squared_error: 0.9961 - loss: 0.9926 - regularization_loss: 0.5845 - total_loss: 1.5772 - val_root_mean_squared_error: 1.1058 - val_loss: 1.2347 - val_regularization_loss: 0.5608 - val_total_loss: 1.7955\n",
      "Epoch 15/30\n",
      "8/8 [==============================] - 0s 6ms/step - root_mean_squared_error: 0.9878 - loss: 0.9762 - regularization_loss: 0.5367 - total_loss: 1.5130 - val_root_mean_squared_error: 1.0997 - val_loss: 1.2215 - val_regularization_loss: 0.5152 - val_total_loss: 1.7367\n",
      "Epoch 16/30\n",
      "8/8 [==============================] - 0s 6ms/step - root_mean_squared_error: 0.9804 - loss: 0.9618 - regularization_loss: 0.4932 - total_loss: 1.4550 - val_root_mean_squared_error: 1.0941 - val_loss: 1.2094 - val_regularization_loss: 0.4737 - val_total_loss: 1.6830\n",
      "Epoch 17/30\n",
      "8/8 [==============================] - 0s 6ms/step - root_mean_squared_error: 0.9739 - loss: 0.9492 - regularization_loss: 0.4536 - total_loss: 1.4028 - val_root_mean_squared_error: 1.0892 - val_loss: 1.1987 - val_regularization_loss: 0.4359 - val_total_loss: 1.6346\n",
      "Epoch 18/30\n",
      "8/8 [==============================] - 0s 6ms/step - root_mean_squared_error: 0.9683 - loss: 0.9385 - regularization_loss: 0.4176 - total_loss: 1.3561 - val_root_mean_squared_error: 1.0850 - val_loss: 1.1895 - val_regularization_loss: 0.4015 - val_total_loss: 1.5911\n",
      "Epoch 19/30\n",
      "8/8 [==============================] - 0s 5ms/step - root_mean_squared_error: 0.9635 - loss: 0.9293 - regularization_loss: 0.3848 - total_loss: 1.3141 - val_root_mean_squared_error: 1.0814 - val_loss: 1.1818 - val_regularization_loss: 0.3703 - val_total_loss: 1.5521\n",
      "Epoch 20/30\n",
      "8/8 [==============================] - 0s 5ms/step - root_mean_squared_error: 0.9594 - loss: 0.9214 - regularization_loss: 0.3551 - total_loss: 1.2765 - val_root_mean_squared_error: 1.0784 - val_loss: 1.1752 - val_regularization_loss: 0.3420 - val_total_loss: 1.5172\n",
      "Epoch 21/30\n",
      "8/8 [==============================] - 0s 6ms/step - root_mean_squared_error: 0.9558 - loss: 0.9146 - regularization_loss: 0.3280 - total_loss: 1.2427 - val_root_mean_squared_error: 1.0757 - val_loss: 1.1695 - val_regularization_loss: 0.3162 - val_total_loss: 1.4857\n",
      "Epoch 22/30\n",
      "8/8 [==============================] - 0s 6ms/step - root_mean_squared_error: 0.9526 - loss: 0.9087 - regularization_loss: 0.3035 - total_loss: 1.2122 - val_root_mean_squared_error: 1.0734 - val_loss: 1.1646 - val_regularization_loss: 0.2928 - val_total_loss: 1.4574\n",
      "Epoch 23/30\n",
      "8/8 [==============================] - 0s 6ms/step - root_mean_squared_error: 0.9499 - loss: 0.9034 - regularization_loss: 0.2812 - total_loss: 1.1846 - val_root_mean_squared_error: 1.0714 - val_loss: 1.1603 - val_regularization_loss: 0.2716 - val_total_loss: 1.4319\n",
      "Epoch 24/30\n",
      "8/8 [==============================] - 0s 6ms/step - root_mean_squared_error: 0.9474 - loss: 0.8988 - regularization_loss: 0.2610 - total_loss: 1.1597 - val_root_mean_squared_error: 1.0696 - val_loss: 1.1564 - val_regularization_loss: 0.2524 - val_total_loss: 1.4088\n",
      "Epoch 25/30\n",
      "8/8 [==============================] - 0s 6ms/step - root_mean_squared_error: 0.9452 - loss: 0.8945 - regularization_loss: 0.2426 - total_loss: 1.1371 - val_root_mean_squared_error: 1.0680 - val_loss: 1.1529 - val_regularization_loss: 0.2349 - val_total_loss: 1.3878\n",
      "Epoch 26/30\n",
      "8/8 [==============================] - 0s 6ms/step - root_mean_squared_error: 0.9431 - loss: 0.8907 - regularization_loss: 0.2259 - total_loss: 1.1166 - val_root_mean_squared_error: 1.0666 - val_loss: 1.1498 - val_regularization_loss: 0.2190 - val_total_loss: 1.3688\n",
      "Epoch 27/30\n",
      "8/8 [==============================] - 0s 6ms/step - root_mean_squared_error: 0.9413 - loss: 0.8873 - regularization_loss: 0.2108 - total_loss: 1.0981 - val_root_mean_squared_error: 1.0653 - val_loss: 1.1471 - val_regularization_loss: 0.2046 - val_total_loss: 1.3516\n",
      "Epoch 28/30\n",
      "8/8 [==============================] - 0s 6ms/step - root_mean_squared_error: 0.9397 - loss: 0.8842 - regularization_loss: 0.1970 - total_loss: 1.0812 - val_root_mean_squared_error: 1.0642 - val_loss: 1.1446 - val_regularization_loss: 0.1915 - val_total_loss: 1.3361\n",
      "Epoch 29/30\n",
      "8/8 [==============================] - 0s 6ms/step - root_mean_squared_error: 0.9382 - loss: 0.8813 - regularization_loss: 0.1845 - total_loss: 1.0659 - val_root_mean_squared_error: 1.0631 - val_loss: 1.1424 - val_regularization_loss: 0.1796 - val_total_loss: 1.3219\n",
      "Epoch 30/30\n",
      "8/8 [==============================] - 0s 6ms/step - root_mean_squared_error: 0.9368 - loss: 0.8787 - regularization_loss: 0.1732 - total_loss: 1.0519 - val_root_mean_squared_error: 1.0622 - val_loss: 1.1403 - val_regularization_loss: 0.1687 - val_total_loss: 1.3091\n",
      "Learning rate: 0.15\n",
      "Epoch 1/30\n",
      "8/8 [==============================] - 1s 26ms/step - root_mean_squared_error: 4.2115 - loss: 16.7209 - regularization_loss: 2.1498 - total_loss: 18.8707 - val_root_mean_squared_error: 2.4197 - val_loss: 5.7995 - val_regularization_loss: 2.1298 - val_total_loss: 7.9293\n",
      "Epoch 2/30\n",
      "8/8 [==============================] - 0s 6ms/step - root_mean_squared_error: 1.4760 - loss: 2.0742 - regularization_loss: 2.0382 - total_loss: 4.1124 - val_root_mean_squared_error: 1.1366 - val_loss: 1.2972 - val_regularization_loss: 1.9174 - val_total_loss: 3.2146\n",
      "Epoch 3/30\n",
      "8/8 [==============================] - 0s 6ms/step - root_mean_squared_error: 1.1183 - loss: 1.2501 - regularization_loss: 1.8060 - total_loss: 3.0560 - val_root_mean_squared_error: 1.1356 - val_loss: 1.2950 - val_regularization_loss: 1.6942 - val_total_loss: 2.9892\n",
      "Epoch 4/30\n",
      "8/8 [==============================] - 0s 6ms/step - root_mean_squared_error: 1.1089 - loss: 1.2286 - regularization_loss: 1.5980 - total_loss: 2.8266 - val_root_mean_squared_error: 1.1340 - val_loss: 1.2917 - val_regularization_loss: 1.5017 - val_total_loss: 2.7935\n",
      "Epoch 5/30\n",
      "8/8 [==============================] - 0s 6ms/step - root_mean_squared_error: 1.0951 - loss: 1.1978 - regularization_loss: 1.4189 - total_loss: 2.6167 - val_root_mean_squared_error: 1.1317 - val_loss: 1.2871 - val_regularization_loss: 1.3364 - val_total_loss: 2.6235\n",
      "Epoch 6/30\n",
      "8/8 [==============================] - 0s 7ms/step - root_mean_squared_error: 1.0777 - loss: 1.1599 - regularization_loss: 1.2651 - total_loss: 2.4250 - val_root_mean_squared_error: 1.1282 - val_loss: 1.2799 - val_regularization_loss: 1.1942 - val_total_loss: 2.4741\n",
      "Epoch 7/30\n",
      "8/8 [==============================] - 0s 6ms/step - root_mean_squared_error: 1.0595 - loss: 1.1212 - regularization_loss: 1.1326 - total_loss: 2.2538 - val_root_mean_squared_error: 1.1231 - val_loss: 1.2689 - val_regularization_loss: 1.0714 - val_total_loss: 2.3404\n",
      "Epoch 8/30\n",
      "8/8 [==============================] - 0s 6ms/step - root_mean_squared_error: 1.0421 - loss: 1.0849 - regularization_loss: 1.0181 - total_loss: 2.1030 - val_root_mean_squared_error: 1.1163 - val_loss: 1.2544 - val_regularization_loss: 0.9652 - val_total_loss: 2.2196\n",
      "Epoch 9/30\n",
      "8/8 [==============================] - 0s 6ms/step - root_mean_squared_error: 1.0257 - loss: 1.0513 - regularization_loss: 0.9187 - total_loss: 1.9701 - val_root_mean_squared_error: 1.1085 - val_loss: 1.2376 - val_regularization_loss: 0.8728 - val_total_loss: 2.1104\n",
      "Epoch 10/30\n",
      "8/8 [==============================] - 0s 6ms/step - root_mean_squared_error: 1.0107 - loss: 1.0211 - regularization_loss: 0.8323 - total_loss: 1.8533 - val_root_mean_squared_error: 1.1004 - val_loss: 1.2203 - val_regularization_loss: 0.7923 - val_total_loss: 2.0126\n",
      "Epoch 11/30\n",
      "8/8 [==============================] - 0s 6ms/step - root_mean_squared_error: 0.9976 - loss: 0.9950 - regularization_loss: 0.7565 - total_loss: 1.7515 - val_root_mean_squared_error: 1.0929 - val_loss: 1.2044 - val_regularization_loss: 0.7215 - val_total_loss: 1.9259\n",
      "Epoch 12/30\n",
      "8/8 [==============================] - 0s 6ms/step - root_mean_squared_error: 0.9865 - loss: 0.9734 - regularization_loss: 0.6898 - total_loss: 1.6632 - val_root_mean_squared_error: 1.0865 - val_loss: 1.1908 - val_regularization_loss: 0.6590 - val_total_loss: 1.8498\n",
      "Epoch 13/30\n",
      "8/8 [==============================] - 0s 6ms/step - root_mean_squared_error: 0.9775 - loss: 0.9560 - regularization_loss: 0.6308 - total_loss: 1.5867 - val_root_mean_squared_error: 1.0812 - val_loss: 1.1797 - val_regularization_loss: 0.6036 - val_total_loss: 1.7833\n",
      "Epoch 14/30\n",
      "8/8 [==============================] - 0s 9ms/step - root_mean_squared_error: 0.9702 - loss: 0.9420 - regularization_loss: 0.5783 - total_loss: 1.5203 - val_root_mean_squared_error: 1.0769 - val_loss: 1.1708 - val_regularization_loss: 0.5543 - val_total_loss: 1.7251\n",
      "Epoch 15/30\n",
      "8/8 [==============================] - 0s 6ms/step - root_mean_squared_error: 0.9643 - loss: 0.9307 - regularization_loss: 0.5317 - total_loss: 1.4624 - val_root_mean_squared_error: 1.0735 - val_loss: 1.1637 - val_regularization_loss: 0.5105 - val_total_loss: 1.6742\n",
      "Epoch 16/30\n",
      "8/8 [==============================] - 0s 6ms/step - root_mean_squared_error: 0.9595 - loss: 0.9215 - regularization_loss: 0.4902 - total_loss: 1.4116 - val_root_mean_squared_error: 1.0707 - val_loss: 1.1580 - val_regularization_loss: 0.4714 - val_total_loss: 1.6294\n",
      "Epoch 17/30\n",
      "8/8 [==============================] - 0s 6ms/step - root_mean_squared_error: 0.9554 - loss: 0.9138 - regularization_loss: 0.4531 - total_loss: 1.3669 - val_root_mean_squared_error: 1.0685 - val_loss: 1.1533 - val_regularization_loss: 0.4366 - val_total_loss: 1.5898\n",
      "Epoch 18/30\n",
      "8/8 [==============================] - 0s 6ms/step - root_mean_squared_error: 0.9520 - loss: 0.9073 - regularization_loss: 0.4201 - total_loss: 1.3274 - val_root_mean_squared_error: 1.0665 - val_loss: 1.1493 - val_regularization_loss: 0.4054 - val_total_loss: 1.5548\n",
      "Epoch 19/30\n",
      "8/8 [==============================] - 0s 6ms/step - root_mean_squared_error: 0.9490 - loss: 0.9017 - regularization_loss: 0.3906 - total_loss: 1.2922 - val_root_mean_squared_error: 1.0649 - val_loss: 1.1459 - val_regularization_loss: 0.3776 - val_total_loss: 1.5235\n",
      "Epoch 20/30\n",
      "8/8 [==============================] - 0s 6ms/step - root_mean_squared_error: 0.9464 - loss: 0.8968 - regularization_loss: 0.3641 - total_loss: 1.2609 - val_root_mean_squared_error: 1.0635 - val_loss: 1.1429 - val_regularization_loss: 0.3526 - val_total_loss: 1.4956\n",
      "Epoch 21/30\n",
      "8/8 [==============================] - 0s 6ms/step - root_mean_squared_error: 0.9441 - loss: 0.8925 - regularization_loss: 0.3404 - total_loss: 1.2329 - val_root_mean_squared_error: 1.0623 - val_loss: 1.1404 - val_regularization_loss: 0.3302 - val_total_loss: 1.4706\n",
      "Epoch 22/30\n",
      "8/8 [==============================] - 0s 6ms/step - root_mean_squared_error: 0.9421 - loss: 0.8887 - regularization_loss: 0.3191 - total_loss: 1.2078 - val_root_mean_squared_error: 1.0613 - val_loss: 1.1383 - val_regularization_loss: 0.3100 - val_total_loss: 1.4483\n",
      "Epoch 23/30\n",
      "8/8 [==============================] - 0s 6ms/step - root_mean_squared_error: 0.9404 - loss: 0.8853 - regularization_loss: 0.2999 - total_loss: 1.1852 - val_root_mean_squared_error: 1.0604 - val_loss: 1.1364 - val_regularization_loss: 0.2918 - val_total_loss: 1.4282\n",
      "Epoch 24/30\n",
      "8/8 [==============================] - 0s 6ms/step - root_mean_squared_error: 0.9387 - loss: 0.8823 - regularization_loss: 0.2825 - total_loss: 1.1648 - val_root_mean_squared_error: 1.0596 - val_loss: 1.1347 - val_regularization_loss: 0.2754 - val_total_loss: 1.4101\n",
      "Epoch 25/30\n",
      "8/8 [==============================] - 0s 6ms/step - root_mean_squared_error: 0.9373 - loss: 0.8796 - regularization_loss: 0.2668 - total_loss: 1.1464 - val_root_mean_squared_error: 1.0588 - val_loss: 1.1332 - val_regularization_loss: 0.2604 - val_total_loss: 1.3937\n",
      "Epoch 26/30\n",
      "8/8 [==============================] - 0s 6ms/step - root_mean_squared_error: 0.9360 - loss: 0.8771 - regularization_loss: 0.2526 - total_loss: 1.1297 - val_root_mean_squared_error: 1.0582 - val_loss: 1.1319 - val_regularization_loss: 0.2469 - val_total_loss: 1.3788\n",
      "Epoch 27/30\n",
      "8/8 [==============================] - 0s 6ms/step - root_mean_squared_error: 0.9348 - loss: 0.8749 - regularization_loss: 0.2396 - total_loss: 1.1144 - val_root_mean_squared_error: 1.0577 - val_loss: 1.1308 - val_regularization_loss: 0.2345 - val_total_loss: 1.3653\n",
      "Epoch 28/30\n",
      "8/8 [==============================] - 0s 5ms/step - root_mean_squared_error: 0.9337 - loss: 0.8728 - regularization_loss: 0.2278 - total_loss: 1.1006 - val_root_mean_squared_error: 1.0572 - val_loss: 1.1298 - val_regularization_loss: 0.2233 - val_total_loss: 1.3530\n",
      "Epoch 29/30\n",
      "8/8 [==============================] - 0s 6ms/step - root_mean_squared_error: 0.9327 - loss: 0.8709 - regularization_loss: 0.2169 - total_loss: 1.0879 - val_root_mean_squared_error: 1.0568 - val_loss: 1.1289 - val_regularization_loss: 0.2129 - val_total_loss: 1.3418\n",
      "Epoch 30/30\n",
      "8/8 [==============================] - 0s 6ms/step - root_mean_squared_error: 0.9317 - loss: 0.8692 - regularization_loss: 0.2070 - total_loss: 1.0762 - val_root_mean_squared_error: 1.0564 - val_loss: 1.1281 - val_regularization_loss: 0.2035 - val_total_loss: 1.3315\n"
     ]
    }
   ],
   "source": [
    "histories_tr_li = {}\n",
    "learning_rates_linear = [0.05, 0.1, 0.15]\n",
    "epochs = 30\n",
    "\n",
    "for learning_rate in learning_rates_linear:\n",
    "    print('Learning rate: {}'.format(learning_rate))\n",
    "    model_tr = ModelTunedRanking()\n",
    "    model_tr.compile(optimizer=tf.keras.optimizers.Adagrad(learning_rate=learning_rate))\n",
    "    \n",
    "    lr = str(learning_rate)\n",
    "    histories_tr_li[lr] = model_tr.fit(cached_train, epochs=epochs, validation_data=cached_validation)"
   ]
  },
  {
   "cell_type": "code",
   "execution_count": 68,
   "id": "1e26140f-8ab3-4349-ace5-62d44d5aec35",
   "metadata": {},
   "outputs": [
    {
     "data": {
      "text/plain": [
       "{'0.05': <keras.callbacks.History at 0x7f93ec2f0130>,\n",
       " '0.1': <keras.callbacks.History at 0x7f93ec1a5640>,\n",
       " '0.15': <keras.callbacks.History at 0x7f93ec076af0>}"
      ]
     },
     "execution_count": 68,
     "metadata": {},
     "output_type": "execute_result"
    }
   ],
   "source": [
    "histories_tr_li"
   ]
  },
  {
   "cell_type": "code",
   "execution_count": 70,
   "id": "83a30689-47a7-4147-878c-c29b65e39e35",
   "metadata": {},
   "outputs": [
    {
     "name": "stdout",
     "output_type": "stream",
     "text": [
      "Training RSME with learning rate 0.05: 0.95\n",
      "Validation RSME with learning rate 0.05: 1.07\n",
      "Training RSME with learning rate 0.1: 0.94\n",
      "Validation RSME with learning rate 0.1: 1.06\n",
      "Training RSME with learning rate 0.15: 0.93\n",
      "Validation RSME with learning rate 0.15: 1.06\n"
     ]
    }
   ],
   "source": [
    "for learning_rate in learning_rates_linear:\n",
    "    lr = str(learning_rate)\n",
    "    rsme_tr = histories_tr_li[lr].history['root_mean_squared_error'][-1]\n",
    "    rsme_val_tr = histories_tr_li[lr].history['val_root_mean_squared_error'][-1]\n",
    "    \n",
    "    print('Training RSME with learning rate {}: {:.2f}'.format(lr, rsme_tr))\n",
    "    print('Validation RSME with learning rate {}: {:.2f}'.format(lr, rsme_val_tr))"
   ]
  },
  {
   "cell_type": "code",
   "execution_count": 71,
   "id": "97a5c58e-5d1d-453c-b71d-0ae7befd1946",
   "metadata": {},
   "outputs": [],
   "source": [
    "num_validation_runs = len(histories_tr_li['0.1'].history['val_root_mean_squared_error'])\n",
    "validation_freq = 1\n",
    "epochs_x = [(x + 1) * validation_freq for x in range(num_validation_runs)]"
   ]
  },
  {
   "cell_type": "code",
   "execution_count": 80,
   "id": "1a428c08-6474-4139-a670-1310e83be4ee",
   "metadata": {},
   "outputs": [
    {
     "data": {
      "text/plain": [
       "<matplotlib.legend.Legend at 0x7f8ff4e66ca0>"
      ]
     },
     "execution_count": 80,
     "metadata": {},
     "output_type": "execute_result"
    },
    {
     "data": {
      "image/png": "[encoded data removed]",
      "text/plain": [
       "<Figure size 432x288 with 1 Axes>"
      ]
     },
     "metadata": {},
     "output_type": "display_data"
    }
   ],
   "source": [
    "for learning_rate in learning_rates_linear:\n",
    "    lr = str(learning_rate)\n",
    "    plt.plot(histories_tr_li[lr].history['root_mean_squared_error'], label=lr)\n",
    "    plt.plot(histories_tr_li[lr].history['val_root_mean_squared_error'], label=lr, linestyle='dotted')\n",
    "    \n",
    "plt.title('Root mean squared error in user rating vs. training epoch')\n",
    "plt.xlabel('Training epoch')\n",
    "plt.ylabel('Root mean squared error in user rating')\n",
    "plt.yscale('log')\n",
    "plt.legend()"
   ]
  },
  {
   "cell_type": "markdown",
   "id": "0199cbc4-6e67-4fcc-8e85-7d75e55d0d31",
   "metadata": {},
   "source": [
    "The best performances for the linear grid search look quite similar to each other, so let's stick with learning rate 0.1 and train the final model."
   ]
  },
  {
   "cell_type": "code",
   "execution_count": 74,
   "id": "a1b7394d-f593-4da8-92b2-e37257735b8f",
   "metadata": {},
   "outputs": [
    {
     "name": "stdout",
     "output_type": "stream",
     "text": [
      "Epoch 1/50\n",
      "8/8 [==============================] - 1s 27ms/step - root_mean_squared_error: 2.4773 - loss: 5.6850 - regularization_loss: 1.9573 - total_loss: 7.6424 - val_root_mean_squared_error: 1.1413 - val_loss: 1.3087 - val_regularization_loss: 1.8716 - val_total_loss: 3.1803\n",
      "Epoch 2/50\n",
      "8/8 [==============================] - 0s 6ms/step - root_mean_squared_error: 1.1232 - loss: 1.2615 - regularization_loss: 1.7836 - total_loss: 3.0450 - val_root_mean_squared_error: 1.1362 - val_loss: 1.2961 - val_regularization_loss: 1.6944 - val_total_loss: 2.9905\n",
      "Epoch 3/50\n",
      "8/8 [==============================] - 0s 6ms/step - root_mean_squared_error: 1.1181 - loss: 1.2501 - regularization_loss: 1.6155 - total_loss: 2.8655 - val_root_mean_squared_error: 1.1351 - val_loss: 1.2939 - val_regularization_loss: 1.5352 - val_total_loss: 2.8291\n",
      "Epoch 4/50\n",
      "8/8 [==============================] - 0s 6ms/step - root_mean_squared_error: 1.1121 - loss: 1.2366 - regularization_loss: 1.4642 - total_loss: 2.7008 - val_root_mean_squared_error: 1.1339 - val_loss: 1.2915 - val_regularization_loss: 1.3921 - val_total_loss: 2.6836\n",
      "Epoch 5/50\n",
      "8/8 [==============================] - 0s 6ms/step - root_mean_squared_error: 1.1040 - loss: 1.2182 - regularization_loss: 1.3283 - total_loss: 2.5466 - val_root_mean_squared_error: 1.1324 - val_loss: 1.2885 - val_regularization_loss: 1.2637 - val_total_loss: 2.5522\n",
      "Epoch 6/50\n",
      "8/8 [==============================] - 0s 6ms/step - root_mean_squared_error: 1.0932 - loss: 1.1942 - regularization_loss: 1.2065 - total_loss: 2.4007 - val_root_mean_squared_error: 1.1304 - val_loss: 1.2846 - val_regularization_loss: 1.1487 - val_total_loss: 2.4333\n",
      "Epoch 7/50\n",
      "8/8 [==============================] - 0s 6ms/step - root_mean_squared_error: 1.0801 - loss: 1.1658 - regularization_loss: 1.0975 - total_loss: 2.2633 - val_root_mean_squared_error: 1.1278 - val_loss: 1.2793 - val_regularization_loss: 1.0458 - val_total_loss: 2.3251\n",
      "Epoch 8/50\n",
      "8/8 [==============================] - 0s 6ms/step - root_mean_squared_error: 1.0661 - loss: 1.1360 - regularization_loss: 0.9999 - total_loss: 2.1359 - val_root_mean_squared_error: 1.1244 - val_loss: 1.2722 - val_regularization_loss: 0.9535 - val_total_loss: 2.2257\n",
      "Epoch 9/50\n",
      "8/8 [==============================] - 0s 6ms/step - root_mean_squared_error: 1.0526 - loss: 1.1075 - regularization_loss: 0.9122 - total_loss: 2.0197 - val_root_mean_squared_error: 1.1200 - val_loss: 1.2629 - val_regularization_loss: 0.8705 - val_total_loss: 2.1334\n",
      "Epoch 10/50\n",
      "8/8 [==============================] - 0s 6ms/step - root_mean_squared_error: 1.0397 - loss: 1.0808 - regularization_loss: 0.8332 - total_loss: 1.9140 - val_root_mean_squared_error: 1.1147 - val_loss: 1.2515 - val_regularization_loss: 0.7957 - val_total_loss: 2.0472\n",
      "Epoch 11/50\n",
      "8/8 [==============================] - 0s 6ms/step - root_mean_squared_error: 1.0274 - loss: 1.0553 - regularization_loss: 0.7621 - total_loss: 1.8174 - val_root_mean_squared_error: 1.1087 - val_loss: 1.2386 - val_regularization_loss: 0.7283 - val_total_loss: 1.9669\n",
      "Epoch 12/50\n",
      "8/8 [==============================] - 0s 6ms/step - root_mean_squared_error: 1.0155 - loss: 1.0313 - regularization_loss: 0.6980 - total_loss: 1.7293 - val_root_mean_squared_error: 1.1024 - val_loss: 1.2251 - val_regularization_loss: 0.6677 - val_total_loss: 1.8928\n",
      "Epoch 13/50\n",
      "8/8 [==============================] - 0s 6ms/step - root_mean_squared_error: 1.0045 - loss: 1.0092 - regularization_loss: 0.6402 - total_loss: 1.6494 - val_root_mean_squared_error: 1.0963 - val_loss: 1.2122 - val_regularization_loss: 0.6129 - val_total_loss: 1.8250\n",
      "Epoch 14/50\n",
      "8/8 [==============================] - 0s 6ms/step - root_mean_squared_error: 0.9946 - loss: 0.9897 - regularization_loss: 0.5879 - total_loss: 1.5776 - val_root_mean_squared_error: 1.0908 - val_loss: 1.2004 - val_regularization_loss: 0.5632 - val_total_loss: 1.7636\n",
      "Epoch 15/50\n",
      "8/8 [==============================] - 0s 6ms/step - root_mean_squared_error: 0.9861 - loss: 0.9730 - regularization_loss: 0.5404 - total_loss: 1.5134 - val_root_mean_squared_error: 1.0859 - val_loss: 1.1902 - val_regularization_loss: 0.5180 - val_total_loss: 1.7083\n",
      "Epoch 16/50\n",
      "8/8 [==============================] - 0s 6ms/step - root_mean_squared_error: 0.9789 - loss: 0.9590 - regularization_loss: 0.4971 - total_loss: 1.4561 - val_root_mean_squared_error: 1.0819 - val_loss: 1.1818 - val_regularization_loss: 0.4769 - val_total_loss: 1.6588\n",
      "Epoch 17/50\n",
      "8/8 [==============================] - 0s 6ms/step - root_mean_squared_error: 0.9729 - loss: 0.9473 - regularization_loss: 0.4577 - total_loss: 1.4050 - val_root_mean_squared_error: 1.0785 - val_loss: 1.1749 - val_regularization_loss: 0.4394 - val_total_loss: 1.6143\n",
      "Epoch 18/50\n",
      "8/8 [==============================] - 0s 6ms/step - root_mean_squared_error: 0.9678 - loss: 0.9375 - regularization_loss: 0.4218 - total_loss: 1.3593 - val_root_mean_squared_error: 1.0756 - val_loss: 1.1690 - val_regularization_loss: 0.4053 - val_total_loss: 1.5743\n",
      "Epoch 19/50\n",
      "8/8 [==============================] - 0s 8ms/step - root_mean_squared_error: 0.9635 - loss: 0.9292 - regularization_loss: 0.3892 - total_loss: 1.3183 - val_root_mean_squared_error: 1.0731 - val_loss: 1.1639 - val_regularization_loss: 0.3742 - val_total_loss: 1.5381\n",
      "Epoch 20/50\n",
      "8/8 [==============================] - 0s 7ms/step - root_mean_squared_error: 0.9597 - loss: 0.9219 - regularization_loss: 0.3594 - total_loss: 1.2814 - val_root_mean_squared_error: 1.0708 - val_loss: 1.1592 - val_regularization_loss: 0.3460 - val_total_loss: 1.5052\n",
      "Epoch 21/50\n",
      "8/8 [==============================] - 0s 6ms/step - root_mean_squared_error: 0.9563 - loss: 0.9155 - regularization_loss: 0.3324 - total_loss: 1.2479 - val_root_mean_squared_error: 1.0687 - val_loss: 1.1549 - val_regularization_loss: 0.3202 - val_total_loss: 1.4751\n",
      "Epoch 22/50\n",
      "8/8 [==============================] - 0s 6ms/step - root_mean_squared_error: 0.9533 - loss: 0.9098 - regularization_loss: 0.3078 - total_loss: 1.2175 - val_root_mean_squared_error: 1.0668 - val_loss: 1.1509 - val_regularization_loss: 0.2968 - val_total_loss: 1.4477\n",
      "Epoch 23/50\n",
      "8/8 [==============================] - 0s 6ms/step - root_mean_squared_error: 0.9506 - loss: 0.9046 - regularization_loss: 0.2854 - total_loss: 1.1900 - val_root_mean_squared_error: 1.0650 - val_loss: 1.1472 - val_regularization_loss: 0.2756 - val_total_loss: 1.4227\n",
      "Epoch 24/50\n",
      "8/8 [==============================] - 0s 6ms/step - root_mean_squared_error: 0.9481 - loss: 0.8999 - regularization_loss: 0.2651 - total_loss: 1.1650 - val_root_mean_squared_error: 1.0634 - val_loss: 1.1438 - val_regularization_loss: 0.2562 - val_total_loss: 1.4000\n",
      "Epoch 25/50\n",
      "8/8 [==============================] - 0s 6ms/step - root_mean_squared_error: 0.9459 - loss: 0.8956 - regularization_loss: 0.2466 - total_loss: 1.1423 - val_root_mean_squared_error: 1.0619 - val_loss: 1.1406 - val_regularization_loss: 0.2386 - val_total_loss: 1.3793\n",
      "Epoch 26/50\n",
      "8/8 [==============================] - 0s 5ms/step - root_mean_squared_error: 0.9438 - loss: 0.8917 - regularization_loss: 0.2299 - total_loss: 1.1216 - val_root_mean_squared_error: 1.0606 - val_loss: 1.1378 - val_regularization_loss: 0.2227 - val_total_loss: 1.3605\n",
      "Epoch 27/50\n",
      "8/8 [==============================] - 0s 5ms/step - root_mean_squared_error: 0.9420 - loss: 0.8882 - regularization_loss: 0.2146 - total_loss: 1.1028 - val_root_mean_squared_error: 1.0594 - val_loss: 1.1353 - val_regularization_loss: 0.2082 - val_total_loss: 1.3435\n",
      "Epoch 28/50\n",
      "8/8 [==============================] - 0s 6ms/step - root_mean_squared_error: 0.9403 - loss: 0.8850 - regularization_loss: 0.2007 - total_loss: 1.0858 - val_root_mean_squared_error: 1.0583 - val_loss: 1.1330 - val_regularization_loss: 0.1950 - val_total_loss: 1.3280\n",
      "Epoch 29/50\n",
      "8/8 [==============================] - 0s 6ms/step - root_mean_squared_error: 0.9387 - loss: 0.8821 - regularization_loss: 0.1881 - total_loss: 1.0703 - val_root_mean_squared_error: 1.0573 - val_loss: 1.1310 - val_regularization_loss: 0.1830 - val_total_loss: 1.3139\n",
      "Epoch 30/50\n",
      "8/8 [==============================] - 0s 6ms/step - root_mean_squared_error: 0.9373 - loss: 0.8795 - regularization_loss: 0.1767 - total_loss: 1.0562 - val_root_mean_squared_error: 1.0564 - val_loss: 1.1291 - val_regularization_loss: 0.1720 - val_total_loss: 1.3011\n",
      "Epoch 31/50\n",
      "8/8 [==============================] - 0s 6ms/step - root_mean_squared_error: 0.9360 - loss: 0.8770 - regularization_loss: 0.1663 - total_loss: 1.0433 - val_root_mean_squared_error: 1.0556 - val_loss: 1.1274 - val_regularization_loss: 0.1621 - val_total_loss: 1.2895\n",
      "Epoch 32/50\n",
      "8/8 [==============================] - 0s 6ms/step - root_mean_squared_error: 0.9348 - loss: 0.8748 - regularization_loss: 0.1568 - total_loss: 1.0316 - val_root_mean_squared_error: 1.0549 - val_loss: 1.1259 - val_regularization_loss: 0.1531 - val_total_loss: 1.2790\n",
      "Epoch 33/50\n",
      "8/8 [==============================] - 0s 6ms/step - root_mean_squared_error: 0.9337 - loss: 0.8727 - regularization_loss: 0.1482 - total_loss: 1.0208 - val_root_mean_squared_error: 1.0542 - val_loss: 1.1245 - val_regularization_loss: 0.1449 - val_total_loss: 1.2693\n",
      "Epoch 34/50\n",
      "8/8 [==============================] - 0s 6ms/step - root_mean_squared_error: 0.9327 - loss: 0.8708 - regularization_loss: 0.1403 - total_loss: 1.0111 - val_root_mean_squared_error: 1.0536 - val_loss: 1.1232 - val_regularization_loss: 0.1374 - val_total_loss: 1.2605\n",
      "Epoch 35/50\n",
      "8/8 [==============================] - 0s 6ms/step - root_mean_squared_error: 0.9317 - loss: 0.8690 - regularization_loss: 0.1331 - total_loss: 1.0021 - val_root_mean_squared_error: 1.0530 - val_loss: 1.1219 - val_regularization_loss: 0.1305 - val_total_loss: 1.2525\n",
      "Epoch 36/50\n",
      "8/8 [==============================] - 0s 6ms/step - root_mean_squared_error: 0.9308 - loss: 0.8673 - regularization_loss: 0.1266 - total_loss: 0.9939 - val_root_mean_squared_error: 1.0525 - val_loss: 1.1208 - val_regularization_loss: 0.1243 - val_total_loss: 1.2451\n",
      "Epoch 37/50\n",
      "8/8 [==============================] - 0s 6ms/step - root_mean_squared_error: 0.9300 - loss: 0.8657 - regularization_loss: 0.1207 - total_loss: 0.9864 - val_root_mean_squared_error: 1.0520 - val_loss: 1.1199 - val_regularization_loss: 0.1186 - val_total_loss: 1.2385\n",
      "Epoch 38/50\n",
      "8/8 [==============================] - 0s 6ms/step - root_mean_squared_error: 0.9292 - loss: 0.8643 - regularization_loss: 0.1152 - total_loss: 0.9796 - val_root_mean_squared_error: 1.0516 - val_loss: 1.1190 - val_regularization_loss: 0.1135 - val_total_loss: 1.2325\n",
      "Epoch 39/50\n",
      "8/8 [==============================] - 0s 6ms/step - root_mean_squared_error: 0.9285 - loss: 0.8630 - regularization_loss: 0.1103 - total_loss: 0.9733 - val_root_mean_squared_error: 1.0512 - val_loss: 1.1182 - val_regularization_loss: 0.1087 - val_total_loss: 1.2269\n",
      "Epoch 40/50\n",
      "8/8 [==============================] - 0s 6ms/step - root_mean_squared_error: 0.9279 - loss: 0.8618 - regularization_loss: 0.1057 - total_loss: 0.9675 - val_root_mean_squared_error: 1.0509 - val_loss: 1.1175 - val_regularization_loss: 0.1044 - val_total_loss: 1.2219\n",
      "Epoch 41/50\n",
      "8/8 [==============================] - 0s 6ms/step - root_mean_squared_error: 0.9272 - loss: 0.8606 - regularization_loss: 0.1016 - total_loss: 0.9622 - val_root_mean_squared_error: 1.0505 - val_loss: 1.1168 - val_regularization_loss: 0.1004 - val_total_loss: 1.2173\n",
      "Epoch 42/50\n",
      "8/8 [==============================] - 0s 6ms/step - root_mean_squared_error: 0.9267 - loss: 0.8595 - regularization_loss: 0.0978 - total_loss: 0.9574 - val_root_mean_squared_error: 1.0503 - val_loss: 1.1162 - val_regularization_loss: 0.0968 - val_total_loss: 1.2131\n",
      "Epoch 43/50\n",
      "8/8 [==============================] - 0s 6ms/step - root_mean_squared_error: 0.9261 - loss: 0.8585 - regularization_loss: 0.0944 - total_loss: 0.9529 - val_root_mean_squared_error: 1.0500 - val_loss: 1.1157 - val_regularization_loss: 0.0935 - val_total_loss: 1.2092\n",
      "Epoch 44/50\n",
      "8/8 [==============================] - 0s 7ms/step - root_mean_squared_error: 0.9256 - loss: 0.8576 - regularization_loss: 0.0912 - total_loss: 0.9487 - val_root_mean_squared_error: 1.0497 - val_loss: 1.1152 - val_regularization_loss: 0.0905 - val_total_loss: 1.2056\n",
      "Epoch 45/50\n",
      "8/8 [==============================] - 0s 6ms/step - root_mean_squared_error: 0.9251 - loss: 0.8567 - regularization_loss: 0.0883 - total_loss: 0.9449 - val_root_mean_squared_error: 1.0495 - val_loss: 1.1147 - val_regularization_loss: 0.0877 - val_total_loss: 1.2024\n",
      "Epoch 46/50\n",
      "8/8 [==============================] - 0s 6ms/step - root_mean_squared_error: 0.9247 - loss: 0.8558 - regularization_loss: 0.0856 - total_loss: 0.9414 - val_root_mean_squared_error: 1.0493 - val_loss: 1.1142 - val_regularization_loss: 0.0851 - val_total_loss: 1.1993\n",
      "Epoch 47/50\n",
      "8/8 [==============================] - 0s 7ms/step - root_mean_squared_error: 0.9242 - loss: 0.8550 - regularization_loss: 0.0831 - total_loss: 0.9381 - val_root_mean_squared_error: 1.0491 - val_loss: 1.1138 - val_regularization_loss: 0.0828 - val_total_loss: 1.1966\n",
      "Epoch 48/50\n",
      "8/8 [==============================] - 0s 6ms/step - root_mean_squared_error: 0.9238 - loss: 0.8542 - regularization_loss: 0.0809 - total_loss: 0.9351 - val_root_mean_squared_error: 1.0489 - val_loss: 1.1134 - val_regularization_loss: 0.0806 - val_total_loss: 1.1940\n",
      "Epoch 49/50\n",
      "8/8 [==============================] - 0s 5ms/step - root_mean_squared_error: 0.9234 - loss: 0.8535 - regularization_loss: 0.0788 - total_loss: 0.9323 - val_root_mean_squared_error: 1.0487 - val_loss: 1.1131 - val_regularization_loss: 0.0786 - val_total_loss: 1.1917\n",
      "Epoch 50/50\n",
      "8/8 [==============================] - 0s 6ms/step - root_mean_squared_error: 0.9231 - loss: 0.8528 - regularization_loss: 0.0769 - total_loss: 0.9297 - val_root_mean_squared_error: 1.0485 - val_loss: 1.1127 - val_regularization_loss: 0.0767 - val_total_loss: 1.1895\n"
     ]
    }
   ],
   "source": [
    "epochs = 50\n",
    "\n",
    "model_tr = ModelTunedRanking()\n",
    "model_tr.compile(optimizer=tf.keras.optimizers.Adagrad(learning_rate=0.1))\n",
    "history_tr = model_tr.fit(cached_train, epochs=epochs, validation_data=cached_validation)"
   ]
  },
  {
   "cell_type": "code",
   "execution_count": 75,
   "id": "9d7950a8-453d-439a-9d87-da788331769b",
   "metadata": {},
   "outputs": [
    {
     "name": "stdout",
     "output_type": "stream",
     "text": [
      "Training RSME: 0.92\n",
      "Validation RSME: 1.05\n"
     ]
    }
   ],
   "source": [
    "rsme_tr = history_tr.history['root_mean_squared_error'][-1]\n",
    "rsme_val_tr = history_tr.history['val_root_mean_squared_error'][-1]\n",
    "\n",
    "print('Training RSME: {:.2f}'.format(rsme_tr))\n",
    "print('Validation RSME: {:.2f}'.format(rsme_val_tr))"
   ]
  },
  {
   "cell_type": "code",
   "execution_count": 77,
   "id": "1abf8270-61c3-4b1b-a8cc-534f568bbcf3",
   "metadata": {},
   "outputs": [],
   "source": [
    "num_validation_runs = len(history_tr.history['val_root_mean_squared_error'])\n",
    "validation_freq = 1\n",
    "epochs_x = [(x + 1) * validation_freq for x in range(num_validation_runs)]"
   ]
  },
  {
   "cell_type": "code",
   "execution_count": 79,
   "id": "7920f016-ddaf-42a8-9fe6-59303e867b13",
   "metadata": {},
   "outputs": [
    {
     "data": {
      "text/plain": [
       "<matplotlib.legend.Legend at 0x7f8ff4e667f0>"
      ]
     },
     "execution_count": 79,
     "metadata": {},
     "output_type": "execute_result"
    },
    {
     "data": {
      "image/png": "[encoded data removed]",
      "text/plain": [
       "<Figure size 432x288 with 1 Axes>"
      ]
     },
     "metadata": {},
     "output_type": "display_data"
    }
   ],
   "source": [
    "plt.plot(history_tr.history['root_mean_squared_error'], label='Training')\n",
    "plt.plot(history_tr.history['val_root_mean_squared_error'], label='Validation')\n",
    "plt.title('Root mean squared error in user rating vs. training epoch')\n",
    "plt.xlabel('Training epoch')\n",
    "plt.ylabel('Root mean squared error in user rating')\n",
    "plt.legend()"
   ]
  },
  {
   "cell_type": "markdown",
   "id": "fe805f03-d6b7-45b9-959d-f54dce094f79",
   "metadata": {},
   "source": [
    "See the summary of the final model architecture."
   ]
  },
  {
   "cell_type": "code",
   "execution_count": 82,
   "id": "8c23b9e4-0039-4581-a320-31a77c710faf",
   "metadata": {},
   "outputs": [
    {
     "name": "stdout",
     "output_type": "stream",
     "text": [
      "Model: \"model_tuned_ranking_9\"\n",
      "_________________________________________________________________\n",
      " Layer (type)                Output Shape              Param #   \n",
      "=================================================================\n",
      " sequential_36 (Sequential)  (None, 32)                53280     \n",
      "                                                                 \n",
      " sequential_37 (Sequential)  (None, 32)                30208     \n",
      "                                                                 \n",
      " sequential_38 (Sequential)  (None, 1)                 33153     \n",
      "                                                                 \n",
      " ranking_12 (Ranking)        multiple                  0         \n",
      "                                                                 \n",
      "=================================================================\n",
      "Total params: 116,641\n",
      "Trainable params: 116,641\n",
      "Non-trainable params: 0\n",
      "_________________________________________________________________\n"
     ]
    }
   ],
   "source": [
    "model_tr.summary()"
   ]
  },
  {
   "cell_type": "markdown",
   "id": "6370e25d-28f1-4bbf-bfc0-9f81ed6080ea",
   "metadata": {},
   "source": [
    "#### Model Evaluation\n",
    "As with the basic model, the performance of the model on the unseen testing data is similar to the validation performance, at about RMSE ~ 1."
   ]
  },
  {
   "cell_type": "code",
   "execution_count": 83,
   "id": "a93210c7-ad19-429d-a0c9-d13e286e10ac",
   "metadata": {},
   "outputs": [
    {
     "name": "stdout",
     "output_type": "stream",
     "text": [
      "5/5 [==============================] - 0s 9ms/step - root_mean_squared_error: 1.0334 - loss: 1.0646 - regularization_loss: 0.0767 - total_loss: 1.1414\n"
     ]
    }
   ],
   "source": [
    "evaluation_tr = model_tr.evaluate(cached_test, return_dict=True)"
   ]
  },
  {
   "cell_type": "code",
   "execution_count": 84,
   "id": "56a3e1a2-0eaf-444e-84fb-de925ddca1d6",
   "metadata": {},
   "outputs": [
    {
     "name": "stdout",
     "output_type": "stream",
     "text": [
      "Evaluation RSME: 1.03\n"
     ]
    }
   ],
   "source": [
    "rsme_eval = evaluation_tr['root_mean_squared_error']\n",
    "print('Evaluation RSME: {:.2f}'.format(rsme_eval))"
   ]
  },
  {
   "cell_type": "markdown",
   "id": "ac4eb51a-b97e-4e8c-8c7c-ad4a363ef5bd",
   "metadata": {},
   "source": [
    "New data can now be sent to the model."
   ]
  },
  {
   "cell_type": "code",
   "execution_count": 85,
   "id": "e4c6da61-97e1-4b5f-94e6-bd6fa001ab28",
   "metadata": {},
   "outputs": [
    {
     "name": "stdout",
     "output_type": "stream",
     "text": [
      "5/5 [==============================] - 0s 8ms/step\n"
     ]
    },
    {
     "data": {
      "text/plain": [
       "(array([[-0.00103073, -0.00880963, -0.02764047, ..., -0.02468852,\n",
       "         -0.03824193, -0.00573529],\n",
       "        [ 0.01373773, -0.01167241,  0.00607198, ..., -0.02672192,\n",
       "          0.00152774,  0.00015416],\n",
       "        [-0.04694544, -0.00464467,  0.0495454 , ...,  0.02249027,\n",
       "         -0.01632734, -0.04235691],\n",
       "        ...,\n",
       "        [ 0.04859417, -0.02702723, -0.0074711 , ...,  0.03680161,\n",
       "          0.02475709,  0.04757578],\n",
       "        [-0.01239911, -0.00710378, -0.00034253, ...,  0.04181692,\n",
       "          0.01368333, -0.00405721],\n",
       "        [ 0.04318682,  0.04200626, -0.01570419, ...,  0.03398242,\n",
       "          0.02922604, -0.00653348]], dtype=float32),\n",
       " array([[-0.02860797,  0.00199232,  0.00022602, ..., -0.08829346,\n",
       "          0.0326644 , -0.0125546 ],\n",
       "        [-0.03114008, -0.0050491 , -0.03404837, ...,  0.00622498,\n",
       "         -0.00267717,  0.0205832 ],\n",
       "        [ 0.00825078, -0.02078394,  0.0288874 , ...,  0.01944696,\n",
       "          0.01513924, -0.01078205],\n",
       "        ...,\n",
       "        [-0.0013343 , -0.02208536,  0.03812212, ..., -0.02360496,\n",
       "          0.01397679, -0.03218241],\n",
       "        [ 0.04636664, -0.04862186,  0.01249681, ..., -0.01065397,\n",
       "         -0.03229887,  0.03506451],\n",
       "        [ 0.01019099, -0.0041628 ,  0.00205111, ..., -0.05178459,\n",
       "          0.00119694,  0.03494526]], dtype=float32),\n",
       " array([[4.067339 ],\n",
       "        [3.4224586],\n",
       "        [3.6980524],\n",
       "        ...,\n",
       "        [3.5766094],\n",
       "        [3.614588 ],\n",
       "        [4.0276084]], dtype=float32))"
      ]
     },
     "execution_count": 85,
     "metadata": {},
     "output_type": "execute_result"
    }
   ],
   "source": [
    "model_tr.predict(cached_test)"
   ]
  }
 ],
 "metadata": {
  "kernelspec": {
   "display_name": "Python 3 (ipykernel)",
   "language": "python",
   "name": "python3"
  },
  "language_info": {
   "codemirror_mode": {
    "name": "ipython",
    "version": 3
   },
   "file_extension": ".py",
   "mimetype": "text/x-python",
   "name": "python",
   "nbconvert_exporter": "python",
   "pygments_lexer": "ipython3",
   "version": "3.9.13"
  }
 },
 "nbformat": 4,
 "nbformat_minor": 5
}
